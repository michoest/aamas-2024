{
 "cells": [
  {
   "cell_type": "code",
   "execution_count": 13,
   "metadata": {},
   "outputs": [
    {
     "data": {
      "text/plain": [
       "'/usr/local/Cellar/openjdk/20/libexec/openjdk.jdk/Contents/Home/lib/libjli.dylib'"
      ]
     },
     "execution_count": 13,
     "metadata": {},
     "output_type": "execute_result"
    }
   ],
   "source": [
    "import jpype\n",
    " "
   ]
  },
  {
   "cell_type": "code",
   "execution_count": 14,
   "metadata": {},
   "outputs": [],
   "source": [
    "import pynetlogo"
   ]
  },
  {
   "cell_type": "code",
   "execution_count": 22,
   "metadata": {},
   "outputs": [
    {
     "ename": "java.lang.NoClassDefFoundError",
     "evalue": "java.lang.NoClassDefFoundError: org/nlogo/workspace/Controllable",
     "output_type": "error",
     "traceback": [
      "\u001b[0;31m---------------------------------------------------------------------------\u001b[0m",
      "\u001b[0;31mjava.lang.ClassNotFoundException\u001b[0m          Traceback (most recent call last)",
      "File \u001b[0;32mClassLoader.java:521\u001b[0m, in \u001b[0;36mjava.lang.ClassLoader.loadClass\u001b[0;34m()\u001b[0m\n",
      "\u001b[0;31mjava.lang.ClassNotFoundException\u001b[0m: java.lang.ClassNotFoundException: org.nlogo.workspace.Controllable",
      "\nThe above exception was the direct cause of the following exception:\n",
      "\u001b[0;31mException\u001b[0m                                 Traceback (most recent call last)",
      "File \u001b[0;32morg.jpype.pkg.JPypePackage.java:-1\u001b[0m, in \u001b[0;36morg.jpype.pkg.JPypePackage.getObject\u001b[0;34m()\u001b[0m\n",
      "\u001b[0;31mException\u001b[0m: Java Exception",
      "\nThe above exception was the direct cause of the following exception:\n",
      "\u001b[0;31mjava.lang.NoClassDefFoundError\u001b[0m            Traceback (most recent call last)",
      "Cell \u001b[0;32mIn[22], line 6\u001b[0m\n\u001b[1;32m      3\u001b[0m netlogo_home \u001b[39m=\u001b[39m \u001b[39m'\u001b[39m\u001b[39m/Applications/NetLogo 6.1.1\u001b[39m\u001b[39m'\u001b[39m\n\u001b[1;32m      4\u001b[0m jvm_path \u001b[39m=\u001b[39m \u001b[39m'\u001b[39m\u001b[39m/Library/Java/JavaVirtualMachines/jdk-17.jdk/Contents/MacOS/libjli.dylib\u001b[39m\u001b[39m'\u001b[39m\n\u001b[0;32m----> 6\u001b[0m nl \u001b[39m=\u001b[39m pynetlogo\u001b[39m.\u001b[39;49mNetLogoLink(gui\u001b[39m=\u001b[39;49m\u001b[39mFalse\u001b[39;49;00m, netlogo_home\u001b[39m=\u001b[39;49mnetlogo_home, jvm_path\u001b[39m=\u001b[39;49mjvm_path)\n",
      "File \u001b[0;32m~/Documents/Professional/Promotion/InES/Research/restricted-parking/.venv/lib/python3.11/site-packages/pynetlogo/core.py:223\u001b[0m, in \u001b[0;36mNetLogoLink.__init__\u001b[0;34m(self, gui, thd, netlogo_home, jvm_path, jvmargs)\u001b[0m\n\u001b[1;32m    220\u001b[0m \u001b[39mif\u001b[39;00m \u001b[39mnot\u001b[39;00m gui:\n\u001b[1;32m    221\u001b[0m     jpype\u001b[39m.\u001b[39mjava\u001b[39m.\u001b[39mlang\u001b[39m.\u001b[39mSystem\u001b[39m.\u001b[39msetProperty(\u001b[39m\"\u001b[39m\u001b[39morg.nlogo.preferHeadless\u001b[39m\u001b[39m\"\u001b[39m, \u001b[39m\"\u001b[39m\u001b[39mtrue\u001b[39m\u001b[39m\"\u001b[39m)\n\u001b[0;32m--> 223\u001b[0m \u001b[39mfrom\u001b[39;00m \u001b[39mnetLogoLink\u001b[39;00m \u001b[39mimport\u001b[39;00m NetLogoLink\n\u001b[1;32m    224\u001b[0m \u001b[39mself\u001b[39m\u001b[39m.\u001b[39mlink \u001b[39m=\u001b[39m NetLogoLink(jpype\u001b[39m.\u001b[39mjava\u001b[39m.\u001b[39mlang\u001b[39m.\u001b[39mBoolean(gui), jpype\u001b[39m.\u001b[39mjava\u001b[39m.\u001b[39mlang\u001b[39m.\u001b[39mBoolean(thd))\n",
      "File \u001b[0;32m<frozen importlib._bootstrap>:1231\u001b[0m, in \u001b[0;36m_handle_fromlist\u001b[0;34m(module, fromlist, import_, recursive)\u001b[0m\n",
      "\u001b[0;31mjava.lang.NoClassDefFoundError\u001b[0m: java.lang.NoClassDefFoundError: org/nlogo/workspace/Controllable"
     ]
    }
   ],
   "source": [
    "import pynetlogo\n",
    "\n",
    "netlogo_home = '/Applications/NetLogo 6.1.1'\n",
    "jvm_path = '/Library/Java/JavaVirtualMachines/jdk-17.jdk/Contents/MacOS/libjli.dylib'\n",
    "\n",
    "nl = pynetlogo.NetLogoLink(gui=False, netlogo_home=netlogo_home, jvm_path=jvm_path)"
   ]
  }
 ],
 "metadata": {
  "kernelspec": {
   "display_name": ".venv",
   "language": "python",
   "name": "python3"
  },
  "language_info": {
   "codemirror_mode": {
    "name": "ipython",
    "version": 3
   },
   "file_extension": ".py",
   "mimetype": "text/x-python",
   "name": "python",
   "nbconvert_exporter": "python",
   "pygments_lexer": "ipython3",
   "version": "3.11.3"
  },
  "orig_nbformat": 4
 },
 "nbformat": 4,
 "nbformat_minor": 2
}
