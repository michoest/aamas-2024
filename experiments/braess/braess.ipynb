{
 "cells": [
  {
   "cell_type": "markdown",
   "metadata": {},
   "source": [
    "# RAISE the Bar: Restriction of Action Spaces for Improved Social Welfare and Equity in Traffic Management \n",
    "## Generalized Braess graph experiment"
   ]
  },
  {
   "cell_type": "markdown",
   "metadata": {},
   "source": [
    "### Setup and function definitions"
   ]
  },
  {
   "cell_type": "code",
   "execution_count": null,
   "metadata": {},
   "outputs": [],
   "source": [
    "# Internal modules\n",
    "import math\n",
    "\n",
    "# External modules\n",
    "import pandas as pd\n",
    "import networkx as nx\n",
    "import matplotlib as mpl\n",
    "import matplotlib.pyplot as plt\n",
    "import matplotlib.ticker as mtick\n",
    "from tqdm import tqdm\n",
    "\n",
    "# Own modules\n",
    "import os, sys\n",
    "sys.path.append(f'{os.getcwd()}/../../')\n",
    "\n",
    "from src.environment import TrafficModel, create_cars, build_network\n",
    "from src.analysis import compute_regression, analyze_fairness\n",
    "from src.util import change_value_of_money\n",
    "\n",
    "plt.rcParams['text.usetex'] = True"
   ]
  },
  {
   "cell_type": "code",
   "execution_count": null,
   "metadata": {},
   "outputs": [],
   "source": [
    "def create_multiple_braess_network(k=0, capacity=100):\n",
    "    network = nx.DiGraph(\n",
    "        [('S0', 'A'), ('S0', 'B'), ('A', 'B'), ('A', 'T0'), ('B', 'T0')]\n",
    "        + [(f'S{i}', f'S{i-1}') for i in range(1, k + 1)]\n",
    "        + [(f'S{i}', 'B') for i in range(1, k + 1)]\n",
    "        + [(f'S{i-1}', f'T{i}') for i in range(1, k + 1)]\n",
    "        + [('B', f'T{i}') for i in range(1, k + 1)]\n",
    "    )\n",
    "\n",
    "    nx.set_node_attributes(\n",
    "        network,\n",
    "        {\n",
    "            **{'A': (3 * math.cos(-1 * 2 * math.pi / (2*k+4)), 3 * math.sin(-1 * 2 * math.pi / (2*k+4))), 'B': (0, 0)},\n",
    "            **{f'S{i}': (3 * math.cos((2*i+1) * 2 * math.pi / (2*k+4)), 3 * math.sin((2*i+1) * 2 * math.pi / (2*k+4))) for i in range(0, k + 1)},\n",
    "            **{f'T{i}': (1.5 * math.cos(2*i * 2 * math.pi / (2*k+4)), 1.5 * math.sin(2*i * 2 * math.pi / (2*k+4))) for i in range(0, k + 1)}\n",
    "        },\n",
    "        \"position\",\n",
    "    )\n",
    "\n",
    "    nx.set_edge_attributes(\n",
    "        network,\n",
    "        {\n",
    "            ('S0', 'A'): (2, 6, capacity, 1), ('S0', 'B'): (10, 0, 1, 1), ('A', 'B'): (1, 0, 1, 1), ('A', 'T0'): (10, 0, 1, 1), ('B', 'T0'): (2, 6, capacity, 1),\n",
    "            **{(f'S{i}', f'S{i-1}'): (2, 6, capacity, 1) for i in range(1, k + 1)},\n",
    "            **{(f'S{i}', 'B'): (11 + 2*i, 0, 1, 1) for i in range(1, k + 1)},\n",
    "            **{(f'S{i-1}', f'T{i}'): (11 + 2*i, 0, 1, 1) for i in range(1, k + 1)},\n",
    "            **{('B', f'T{i}'): (2, 6, capacity, 1) for i in range(1, k + 1)}\n",
    "        },\n",
    "        \"latency_params\",\n",
    "    )\n",
    "\n",
    "    return build_network(network)"
   ]
  },
  {
   "cell_type": "code",
   "execution_count": null,
   "metadata": {},
   "outputs": [],
   "source": [
    "BASE_COLOR = 'aqua'\n",
    "RESTRICTION_COLOR = 'coral'\n",
    "TOLLING_COLOR = 'darkred'"
   ]
  },
  {
   "cell_type": "markdown",
   "metadata": {},
   "source": [
    "### Experiment"
   ]
  },
  {
   "cell_type": "code",
   "execution_count": null,
   "metadata": {},
   "outputs": [],
   "source": [
    "k = 20\n",
    "capacity = 20\n",
    "number_of_steps = 1_000\n",
    "values_of_money = [0, 1, 2, 5]\n",
    "\n",
    "demands = range(k + 1)\n",
    "results = []\n",
    "for demand in tqdm(demands):\n",
    "    car_counts = {(f'S{demand}', f'T{demand}'): 50}\n",
    "    \n",
    "    # Unrestricted\n",
    "    network = create_multiple_braess_network(k=k, capacity=capacity)\n",
    "    cars = create_cars(network, car_counts=car_counts)\n",
    "    change_value_of_money(cars, values_of_money)\n",
    "    model = TrafficModel(network, cars)\n",
    "    step_stats_unrestricted, car_stats_unrestricted = model.run_sequentially(number_of_steps, show_progress=False)\n",
    "    results.append({'demand': demand, 'scenario': 'Base', 'travel_time': car_stats_unrestricted[\"travel_time\"].mean(), **analyze_fairness(car_stats_unrestricted)})\n",
    "\n",
    "    # Restricted\n",
    "    network = create_multiple_braess_network(k=k, capacity=capacity)\n",
    "    cars = create_cars(network, car_counts=car_counts)\n",
    "    change_value_of_money(cars, values_of_money)\n",
    "    model = TrafficModel(network, cars)\n",
    "\n",
    "    model.set_edge_restriction(('A', 'B'), False)\n",
    "    for i in range(1, min(demand, k) + 1):\n",
    "        model.set_edge_restriction((f'S{i-1}', 'B'), False)\n",
    "\n",
    "    step_stats_restricted, car_stats_restricted = model.run_sequentially(number_of_steps, show_progress=False)\n",
    "    results.append({'demand': demand, 'scenario': 'Restriction', 'travel_time': car_stats_restricted[\"travel_time\"].mean(), **analyze_fairness(car_stats_restricted)})\n",
    "\n",
    "    # Tolling\n",
    "    network = create_multiple_braess_network(k=k, capacity=capacity)\n",
    "    cars = create_cars(network, car_counts=car_counts)\n",
    "    change_value_of_money(cars, values_of_money)\n",
    "    model = TrafficModel(network, cars, tolls=True, beta=1, R=0.1)\n",
    "    step_stats_tolling, car_stats_tolling = model.run_sequentially(number_of_steps, show_progress=False)\n",
    "    results.append({'demand': demand, 'scenario': 'Tolling (excl. tolls)', 'travel_time': car_stats_tolling[\"travel_time\"].mean(), **analyze_fairness(car_stats_tolling)})\n",
    "    results.append({'demand': demand, 'scenario': 'Tolling (incl. tolls)', 'travel_time': car_stats_tolling[\"total_cost\"].mean()})\n",
    "\n",
    "results = pd.DataFrame(results).set_index(['demand', 'scenario']).unstack(level=1)"
   ]
  },
  {
   "cell_type": "code",
   "execution_count": null,
   "metadata": {},
   "outputs": [],
   "source": [
    "performance = results['travel_time']\n",
    "ax = performance.plot(color=[BASE_COLOR, RESTRICTION_COLOR, TOLLING_COLOR, TOLLING_COLOR], style=['-', '-', '-', '--'])\n",
    "ax.legend()\n",
    "ax.set_xlabel('Demand (S_i -> T_i)')\n",
    "ax.set_ylabel('Mean total cost')\n",
    "ax.xaxis.get_major_locator().set_params(integer=True)\n",
    "\n",
    "plt.tight_layout()\n",
    "ax.get_figure().savefig('braess-absolute-performance.pdf', dpi=300)"
   ]
  },
  {
   "cell_type": "code",
   "execution_count": null,
   "metadata": {},
   "outputs": [],
   "source": [
    "relative_improvement = -(performance.drop('Base', axis=1).sub(performance['Base'], axis=0).div(performance['Base'], axis=0))\n",
    "ax = relative_improvement.plot(color=[RESTRICTION_COLOR, TOLLING_COLOR, TOLLING_COLOR], style=['-', '-', '--'])\n",
    "ax.legend()\n",
    "ax.set_xlabel(r'Demand $(s_i \\rightarrow t_i)$')\n",
    "ax.set_ylabel(r'Improvement relative to \\emph{Base}')\n",
    "ax.axhline(ls='--', color='grey')\n",
    "ax.xaxis.get_major_locator().set_params(integer=True)\n",
    "ax.yaxis.set_major_formatter(mtick.PercentFormatter(1.0))\n",
    "\n",
    "plt.tight_layout()\n",
    "ax.get_figure().savefig('braess-relative-performance.pdf', dpi=300)"
   ]
  },
  {
   "cell_type": "code",
   "execution_count": null,
   "metadata": {},
   "outputs": [],
   "source": [
    "fairness = results['slope'].drop('Tolling (incl. tolls)', axis=1)\n",
    "fairness.columns = ['Base', 'Restriction', 'Tolling']\n",
    "\n",
    "ax = fairness.plot(color=[BASE_COLOR, RESTRICTION_COLOR, TOLLING_COLOR])\n",
    "ax.legend()\n",
    "ax.set_xlabel(r'Demand $(s_i \\rightarrow t_i)$')\n",
    "ax.set_ylabel('Slope of regression')\n",
    "ax.axhline(ls='--', color='grey')\n",
    "ax.xaxis.get_major_locator().set_params(integer=True)\n",
    "\n",
    "plt.tight_layout()\n",
    "ax.get_figure().savefig('braess-fairness.pdf', dpi=300)"
   ]
  },
  {
   "cell_type": "markdown",
   "metadata": {},
   "source": [
    "### Detailed fairness plot for $B_1$"
   ]
  },
  {
   "cell_type": "code",
   "execution_count": null,
   "metadata": {},
   "outputs": [],
   "source": [
    "k = 1\n",
    "capacity = 20\n",
    "number_of_steps = 10_000\n",
    "values_of_money = [0, 1, 2, 5]\n",
    "car_counts = {(f'S{k}', f'T{k}'): 50}\n",
    "    \n",
    "# Unrestricted\n",
    "network = create_multiple_braess_network(k=k, capacity=capacity)\n",
    "cars = create_cars(network, car_counts=car_counts)\n",
    "change_value_of_money(cars, values_of_money)\n",
    "model = TrafficModel(network, cars)\n",
    "step_stats_unrestricted, car_stats_unrestricted = model.run_sequentially(number_of_steps, show_progress=False)\n",
    "\n",
    "# Restricted\n",
    "network = create_multiple_braess_network(k=k, capacity=capacity)\n",
    "cars = create_cars(network, car_counts=car_counts)\n",
    "change_value_of_money(cars, values_of_money)\n",
    "model = TrafficModel(network, cars)\n",
    "\n",
    "model.set_edge_restriction(('A', 'B'), False)\n",
    "for i in range(1, k + 1):\n",
    "    model.set_edge_restriction((f'S{i-1}', 'B'), False)\n",
    "\n",
    "step_stats_restricted, car_stats_restricted = model.run_sequentially(number_of_steps, show_progress=False)\n",
    "\n",
    "# Tolling\n",
    "network = create_multiple_braess_network(k=k, capacity=capacity)\n",
    "cars = create_cars(network, car_counts=car_counts)\n",
    "change_value_of_money(cars, values_of_money)\n",
    "model = TrafficModel(network, cars, tolls=True, beta=1, R=0.1)\n",
    "step_stats_tolling, car_stats_tolling = model.run_sequentially(number_of_steps, show_progress=False)"
   ]
  },
  {
   "cell_type": "code",
   "execution_count": null,
   "metadata": {},
   "outputs": [],
   "source": [
    "cutoff = 5_000\n",
    "\n",
    "u = car_stats_unrestricted[car_stats_unrestricted['step'] >= cutoff].groupby('value_of_money')['travel_time'].mean()\n",
    "r = car_stats_restricted[car_stats_restricted['step'] >= cutoff].groupby('value_of_money')['travel_time'].mean()\n",
    "t = car_stats_tolling[car_stats_tolling['step'] >= cutoff].groupby('value_of_money')['travel_time'].mean()\n",
    "\n",
    "travel_times = pd.concat([u, r, t], keys=['Base', 'Restriction', 'Tolling'], axis=1)\n",
    "\n",
    "ax = travel_times.transpose().plot(kind='bar', cmap=mpl.colormaps['winter'])\n",
    "ax.legend(loc='lower left', title='Value of money')\n",
    "plt.xticks(rotation = 0)\n",
    "ax.set_ylabel('Travel time')\n",
    "\n",
    "# Add regression lines\n",
    "for offset, data in enumerate([u, r, t]):\n",
    "    slope, intercept, error, p = compute_regression(data.reset_index())\n",
    "    ax.plot([offset - 0.3, offset + 0.3], [intercept + slope * min(values_of_money), intercept + slope * max(values_of_money)], 'r--')\n",
    "\n",
    "plt.tight_layout()\n",
    "ax.get_figure().savefig('braess-detailed-fairness.pdf', dpi=300)"
   ]
  }
 ],
 "metadata": {
  "kernelspec": {
   "display_name": ".venv",
   "language": "python",
   "name": "python3"
  },
  "language_info": {
   "codemirror_mode": {
    "name": "ipython",
    "version": 3
   },
   "file_extension": ".py",
   "mimetype": "text/x-python",
   "name": "python",
   "nbconvert_exporter": "python",
   "pygments_lexer": "ipython3",
   "version": "3.11.4"
  },
  "orig_nbformat": 4
 },
 "nbformat": 4,
 "nbformat_minor": 2
}
