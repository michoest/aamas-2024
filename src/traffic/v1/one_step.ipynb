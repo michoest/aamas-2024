{
 "cells": [
  {
   "cell_type": "markdown",
   "metadata": {},
   "source": [
    "## Setup"
   ]
  },
  {
   "cell_type": "code",
   "execution_count": null,
   "metadata": {},
   "outputs": [],
   "source": [
    "import random\n",
    "from collections import Counter\n",
    "import itertools\n",
    "import math\n",
    "\n",
    "import networkx as nx\n",
    "import numpy as np\n",
    "import pandas as pd\n",
    "from scipy.special import softmax\n",
    "from tqdm import trange, tqdm\n",
    "import matplotlib as mpl"
   ]
  },
  {
   "cell_type": "code",
   "execution_count": null,
   "metadata": {},
   "outputs": [],
   "source": [
    "class Car:\n",
    "    def __init__(self, source, target) -> None:\n",
    "        self.source = source\n",
    "        self.target = target\n",
    "\n",
    "    def __repr__(self) -> str:\n",
    "        return f'<Car {self.source} -> {self.target}>'\n",
    "\n",
    "    def act(self, network, verbose=False):\n",
    "        if self.source == self.target or not nx.has_path(network, self.source, self.target):\n",
    "            return self.source\n",
    "        else:\n",
    "            choices = list(nx.all_shortest_paths(network, self.source, self.target, weight='anticipated_latency'))\n",
    "            choice = random.choice(choices)\n",
    "            \n",
    "            if verbose:\n",
    "                print(f'Choose {choice} from {choices}.')\n",
    "            \n",
    "            return choice\n",
    "            \n",
    "\n",
    "class TrafficModel:\n",
    "    def __init__(self, network, cars) -> None:\n",
    "        self.network = network\n",
    "        self.cars = cars\n",
    "\n",
    "    def update_latencies(self):\n",
    "        nx.set_edge_attributes(self.network, {(v, w): attr['latency_fn'](attr['utilization']) for v, w, attr in self.network.edges(data=True)}, 'latency')\n",
    "        nx.set_edge_attributes(self.network, {(v, w): attr['latency_fn'](attr['utilization'] + (1 / len(self.cars))) for v, w, attr in self.network.edges(data=True)}, 'anticipated_latency')\n",
    "\n",
    "    def update_latency(self, edge):\n",
    "        self.network.edges[edge]['latency'] = self.network.edges[edge]['latency_fn'](self.network.edges[edge]['utilization'])\n",
    "        self.network.edges[edge]['anticipated_latency'] = self.network.edges[edge]['latency_fn'](self.network.edges[edge]['utilization'] + (1 / len(self.cars)))\n",
    "\n",
    "    @property\n",
    "    def allowed_network(self):\n",
    "        return nx.restricted_view(self.network, [], [(v, w) for v, w, allowed in self.network.edges(data='allowed') if not allowed])\n",
    "    \n",
    "    def decrease_utilization(self, edge):\n",
    "        self.set_utilization(edge, self.network.edges[edge]['utilization'] - (1 / len(self.cars)))\n",
    "\n",
    "    def increase_utilization(self, edge):\n",
    "        self.set_utilization(edge, self.network.edges[edge]['utilization'] + (1 / len(self.cars)))\n",
    "\n",
    "    def set_utilization(self, edge, utilization):\n",
    "        self.network.edges[edge]['utilization'] = utilization\n",
    "        self.update_latency(edge)\n",
    "\n",
    "    def set_edge_restriction(self, edge, allowed=True):\n",
    "        self.network.edges[edge]['allowed'] = allowed"
   ]
  },
  {
   "cell_type": "code",
   "execution_count": null,
   "metadata": {},
   "outputs": [],
   "source": [
    "def run(model, number_of_steps, verbose=False):\n",
    "    routes = {id: [] for id in model.cars}\n",
    "\n",
    "    nx.set_edge_attributes(model.network, 0, 'utilization')\n",
    "    model.update_latencies()\n",
    "\n",
    "    stats = []\n",
    "    stats2 = []\n",
    "    for step in (range if verbose else trange)(number_of_steps):\n",
    "        if verbose:\n",
    "            print(f'Step {step}:')\n",
    "            print(f'Initial latency = {nx.get_edge_attributes(model.network, \"latency\")}')\n",
    "\n",
    "        for id, car in np.random.permutation(list(model.cars.items())):\n",
    "            for edge in zip(routes[id], routes[id][1:]):\n",
    "                model.decrease_utilization(edge)\n",
    "\n",
    "            # Let agents choose a route, given the network with allowed edges only\n",
    "            routes[id] = car.act(model.allowed_network, verbose=verbose)\n",
    "\n",
    "            for edge in zip(routes[id], routes[id][1:]):\n",
    "                model.increase_utilization(edge)\n",
    "\n",
    "        stats.append({\n",
    "            **routes, \n",
    "            **nx.get_edge_attributes(model.network, 'latency'), \n",
    "            **{f't({id})': nx.path_weight(model.network, route, 'latency') for id, route in routes.items()}})\n",
    "\n",
    "        for id, car in np.random.permutation(list(model.cars.items())):\n",
    "            stats2.append({'step': step, 'car_id': id, 'source': car.source, 'target': car.target, 'route': tuple(routes[id]), 'travel_time': nx.path_weight(model.network, routes[id], 'latency')})\n",
    "\n",
    "    return pd.DataFrame(stats), pd.DataFrame(stats2)"
   ]
  },
  {
   "cell_type": "code",
   "execution_count": null,
   "metadata": {},
   "outputs": [],
   "source": [
    "def build_network(network):\n",
    "    # Create latency functions from parameters\n",
    "    nx.set_edge_attributes(network, {(v, w): lambda u, a=attr['latency_params'][0], b=attr['latency_params'][1], c=attr['latency_params'][2]: a + b * u ** c for v, w, attr in network.edges(data=True)}, 'latency_fn')\n",
    "\n",
    "    # Set initial utilization\n",
    "    nx.set_edge_attributes(network, 0, 'utilization')\n",
    "\n",
    "    # Set initial latency based on utilization\n",
    "    nx.set_edge_attributes(network, {(v, w): attr['latency_fn'](attr['utilization']) for v, w, attr in network.edges(data=True)}, 'latency')\n",
    "\n",
    "    # Allow all edges\n",
    "    nx.set_edge_attributes(network, True, 'allowed')\n",
    "\n",
    "    return network"
   ]
  },
  {
   "cell_type": "code",
   "execution_count": null,
   "metadata": {},
   "outputs": [],
   "source": [
    "def plot_travel_time_per_route(car_stats):\n",
    "    car_stats.groupby('route')['travel_time'].plot(legend=True)"
   ]
  },
  {
   "cell_type": "code",
   "execution_count": null,
   "metadata": {},
   "outputs": [],
   "source": [
    "def plot_cars_per_edge(car_stats):\n",
    "    pd.DataFrame(list(car_stats.groupby('step')['route'].aggregate(lambda routes: Counter([edge for route in routes for edge in tuple(zip(route, route[1:]))])))).plot()"
   ]
  },
  {
   "cell_type": "code",
   "execution_count": null,
   "metadata": {},
   "outputs": [],
   "source": [
    "def plot_cars_per_route(car_stats):\n",
    "    car_stats.groupby(['step', 'route']).size().unstack().plot()"
   ]
  },
  {
   "cell_type": "markdown",
   "metadata": {},
   "source": [
    "## Braess Paradox"
   ]
  },
  {
   "cell_type": "code",
   "execution_count": null,
   "metadata": {},
   "outputs": [],
   "source": [
    "def create_braess_network():\n",
    "    network = nx.DiGraph([(0, 1), (0, 2), (1, 2), (1, 3), (2, 3)])\n",
    "\n",
    "    nx.set_node_attributes(network, {i: (i / 3, 0) for i in range(len(network.nodes))}, 'position')\n",
    "\n",
    "    # Latency is defined in terms of the utilization, i.e., the share of cars on a specific road\n",
    "    nx.set_edge_attributes(network, {\n",
    "        (0, 1): (0, 8, 1),\n",
    "        (0, 2): (11, 0, 1),\n",
    "        (1, 2): (1, 0, 1),\n",
    "        (1, 3): (11, 0, 1),\n",
    "        (2, 3): (0, 8, 1)\n",
    "    }, 'latency_params')\n",
    "\n",
    "    return build_network(network)"
   ]
  },
  {
   "cell_type": "markdown",
   "metadata": {},
   "source": [
    "### Basic version"
   ]
  },
  {
   "cell_type": "code",
   "execution_count": null,
   "metadata": {},
   "outputs": [],
   "source": [
    "number_of_cars = 20\n",
    "number_of_steps = 20\n",
    "\n",
    "network = create_braess_network()\n",
    "cars = {id: Car(0, 3) for id in range(number_of_cars)}\n",
    "\n",
    "model = TrafficModel(network, cars)\n",
    "\n",
    "model.set_edge_restriction((1, 2), allowed=True)\n",
    "stats, car_stats = run(model, number_of_steps, verbose=False)\n",
    "\n",
    "# Calculate social welfare as mean agent reward per step\n",
    "stats['social_welfare'] = stats[[f't({id})' for id in range(number_of_cars)]].mean(axis=1)"
   ]
  },
  {
   "cell_type": "code",
   "execution_count": null,
   "metadata": {},
   "outputs": [],
   "source": [
    "stats['social_welfare'].plot()"
   ]
  },
  {
   "cell_type": "code",
   "execution_count": null,
   "metadata": {},
   "outputs": [],
   "source": [
    "# Number of cars per route over all time steps\n",
    "plot_cars_per_route(car_stats)"
   ]
  },
  {
   "cell_type": "code",
   "execution_count": null,
   "metadata": {},
   "outputs": [],
   "source": [
    "# Number of cars per edge over all time steps\n",
    "plot_cars_per_edge(car_stats)"
   ]
  },
  {
   "cell_type": "code",
   "execution_count": null,
   "metadata": {},
   "outputs": [],
   "source": [
    "def plot_latency_increase_per_edge(car_stats):\n",
    "    # edge_latency = (pd.DataFrame(list(stats2.groupby('step')['route'].aggregate(lambda routes: Counter([edge for route in routes for edge in tuple(zip(route, route[1:]))])))) / len(model.cars)).mean().to_dict()\n",
    "    # edge_utilization_std = (pd.DataFrame(list(stats2.groupby('step')['route'].aggregate(lambda routes: Counter([edge for route in routes for edge in tuple(zip(route, route[1:]))])))) / len(model.cars)).std().to_dict()\n",
    "\n",
    "    # if show_std:\n",
    "    #     edge_labels = {edge: f'{edge_utilization[edge]:.2f} (+- {edge_utilization_std[edge]:.1f})' for edge in edge_utilization}\n",
    "    # else:\n",
    "    #     edge_labels = {edge: f'{edge_utilization[edge]:.2f}' for edge in edge_utilization}\n",
    "\n",
    "    # nx.draw(model.network, pos=nx.get_node_attributes(model.network, 'position'), edgelist=edge_utilization.keys(), edge_color=edge_utilization.values(), edge_vmax=1.0, edge_cmap=mpl.colormaps['Greys'])\n",
    "    # nx.draw_networkx_edge_labels(model.network, pos=nx.get_node_attributes(model.network, 'position'), edge_labels=edge_labels)"
   ]
  },
  {
   "cell_type": "markdown",
   "metadata": {},
   "source": [
    "### With random initialization of cars"
   ]
  },
  {
   "cell_type": "code",
   "execution_count": null,
   "metadata": {},
   "outputs": [],
   "source": [
    "number_of_cars = 20\n",
    "number_of_steps = 20\n",
    "\n",
    "network = create_braess_network()\n",
    "cars = {id: Car(s, t) for id, (s, t) in zip(range(number_of_cars), random.choices([(0, 2), (0, 3), (1, 3)], k=number_of_cars))}\n",
    "print(f'Cars: {cars}')\n",
    "\n",
    "model = TrafficModel(network, cars)\n",
    "\n",
    "model.set_edge_restriction((1, 2), allowed=True)\n",
    "stats, car_stats = run(model, number_of_steps, verbose=False)\n",
    "\n",
    "# Calculate social welfare as mean agent reward per step\n",
    "stats['social_welfare'] = stats[[f't({id})' for id in range(number_of_cars)]].mean(axis=1)"
   ]
  },
  {
   "cell_type": "code",
   "execution_count": null,
   "metadata": {},
   "outputs": [],
   "source": [
    "# Social welfare (i.e., mean travel time) over all time steps\n",
    "stats['social_welfare'].plot()"
   ]
  },
  {
   "cell_type": "code",
   "execution_count": null,
   "metadata": {},
   "outputs": [],
   "source": [
    "# Travel time per route over all time steps\n",
    "plot_travel_time_per_route(car_stats)"
   ]
  },
  {
   "cell_type": "code",
   "execution_count": null,
   "metadata": {},
   "outputs": [],
   "source": [
    "# Number of cars per route over all time steps\n",
    "plot_cars_per_route(car_stats)"
   ]
  },
  {
   "cell_type": "code",
   "execution_count": null,
   "metadata": {},
   "outputs": [],
   "source": [
    "# Number of cars per edge over all time steps\n",
    "plot_cars_per_edge(car_stats)"
   ]
  },
  {
   "cell_type": "markdown",
   "metadata": {},
   "source": [
    "## Grid with random latency functions"
   ]
  },
  {
   "cell_type": "code",
   "execution_count": null,
   "metadata": {},
   "outputs": [],
   "source": [
    "def create_random_grid_network(number_of_rows, number_of_columns):\n",
    "    network = nx.grid_2d_graph(number_of_rows, number_of_columns, create_using=nx.DiGraph)\n",
    "\n",
    "    nx.set_node_attributes(network, {(i, j): (j / (number_of_columns - 1), 1 - (i / (number_of_rows - 1))) for i, j in network.nodes}, 'position')\n",
    "    nx.set_edge_attributes(network, {edge: random.choice([(1, 0, 1), (11, 0, 1), (0, 8, 1)]) for edge in network.edges}, 'latency_params')\n",
    "\n",
    "    return build_network(network)"
   ]
  },
  {
   "cell_type": "code",
   "execution_count": null,
   "metadata": {},
   "outputs": [],
   "source": [
    "def draw_edge_utilization(model, stats2, show_std=False):\n",
    "    edge_utilization = (pd.DataFrame(list(stats2.groupby('step')['route'].aggregate(lambda routes: Counter([edge for route in routes for edge in tuple(zip(route, route[1:]))])))) / len(model.cars)).mean().to_dict()\n",
    "    edge_utilization_std = (pd.DataFrame(list(stats2.groupby('step')['route'].aggregate(lambda routes: Counter([edge for route in routes for edge in tuple(zip(route, route[1:]))])))) / len(model.cars)).std().to_dict()\n",
    "\n",
    "    if show_std:\n",
    "        edge_labels = {edge: f'{edge_utilization[edge]:.2f} (+- {edge_utilization_std[edge]:.1f})' for edge in edge_utilization}\n",
    "    else:\n",
    "        edge_labels = {edge: f'{edge_utilization[edge]:.2f}' for edge in edge_utilization}\n",
    "\n",
    "    nx.draw(model.network, pos=nx.get_node_attributes(model.network, 'position'), edgelist=edge_utilization.keys(), edge_color=edge_utilization.values(), edge_vmax=1.0, edge_cmap=mpl.colormaps['Greys'])\n",
    "    nx.draw_networkx_edge_labels(model.network, pos=nx.get_node_attributes(model.network, 'position'), edge_labels=edge_labels)"
   ]
  },
  {
   "cell_type": "code",
   "execution_count": null,
   "metadata": {},
   "outputs": [],
   "source": [
    "def draw_latency_params(model):\n",
    "    nx.draw(model.network, pos=nx.get_node_attributes(model.network, 'position'))\n",
    "    nx.draw_networkx_edge_labels(model.network, pos=nx.get_node_attributes(model.network, 'position'), edge_labels={(v, w): f'{model.network.edges[(v, w)][\"latency_params\"]}\\n{model.network.edges[(w, v)][\"latency_params\"]}' for v, w in model.network.edges if v < w});"
   ]
  },
  {
   "cell_type": "code",
   "execution_count": null,
   "metadata": {},
   "outputs": [],
   "source": [
    "number_of_rows = 4\n",
    "number_of_columns = 5\n",
    "number_of_cars = 100\n",
    "number_of_steps = 100\n",
    "\n",
    "network = create_random_grid_network(number_of_rows, number_of_columns)\n",
    "cars = {id: Car((0, 0), (number_of_rows - 1, number_of_columns - 1)) for id in range(number_of_cars)}\n",
    "\n",
    "model = TrafficModel(network, cars)\n",
    "stats, car_stats = run(model, number_of_steps)\n",
    "\n",
    "# Calculate social welfare as mean agent reward per step\n",
    "stats['social_welfare'] = stats[[f't({id})' for id in range(number_of_cars)]].mean(axis=1)"
   ]
  },
  {
   "cell_type": "code",
   "execution_count": null,
   "metadata": {},
   "outputs": [],
   "source": [
    "draw_latency_params(model)"
   ]
  },
  {
   "cell_type": "code",
   "execution_count": null,
   "metadata": {},
   "outputs": [],
   "source": [
    "stats['social_welfare'].plot()"
   ]
  },
  {
   "cell_type": "code",
   "execution_count": null,
   "metadata": {},
   "outputs": [],
   "source": [
    "stats2.groupby(['step', 'route']).size().unstack().plot()"
   ]
  },
  {
   "cell_type": "code",
   "execution_count": null,
   "metadata": {},
   "outputs": [],
   "source": [
    "# Travel time per route over all time steps\n",
    "\n",
    "stats2.groupby('route')['travel_time'].plot(legend=True);"
   ]
  },
  {
   "cell_type": "code",
   "execution_count": null,
   "metadata": {},
   "outputs": [],
   "source": [
    "# Number of cars per edge over all time steps\n",
    "\n",
    "pd.DataFrame(list(stats2.groupby('step')['route'].aggregate(lambda routes: Counter([edge for route in routes for edge in tuple(zip(route, route[1:]))])))).rolling(5).mean().plot()"
   ]
  },
  {
   "cell_type": "code",
   "execution_count": null,
   "metadata": {},
   "outputs": [],
   "source": [
    "draw_edge_utilization(model, stats2, show_std=False)"
   ]
  }
 ],
 "metadata": {
  "kernelspec": {
   "display_name": ".venv",
   "language": "python",
   "name": "python3"
  },
  "language_info": {
   "codemirror_mode": {
    "name": "ipython",
    "version": 3
   },
   "file_extension": ".py",
   "mimetype": "text/x-python",
   "name": "python",
   "nbconvert_exporter": "python",
   "pygments_lexer": "ipython3",
   "version": "3.11.4"
  },
  "orig_nbformat": 4
 },
 "nbformat": 4,
 "nbformat_minor": 2
}
