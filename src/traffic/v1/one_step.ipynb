{
 "cells": [
  {
   "cell_type": "code",
   "execution_count": 1,
   "metadata": {},
   "outputs": [],
   "source": [
    "import random\n",
    "from collections import Counter\n",
    "import itertools\n",
    "import math\n",
    "\n",
    "import networkx as nx\n",
    "import numpy as np\n",
    "import pandas as pd\n",
    "from scipy.special import softmax\n",
    "from tqdm import trange, tqdm"
   ]
  },
  {
   "cell_type": "code",
   "execution_count": 31,
   "metadata": {},
   "outputs": [],
   "source": [
    "class Car:\n",
    "    def __init__(self, source, target) -> None:\n",
    "        self.source = source\n",
    "        self.target = target\n",
    "\n",
    "    def __repr__(self) -> str:\n",
    "        return f'<Car {self.source} -> {self.target}>'\n",
    "\n",
    "    def act(self, network, verbose=False):\n",
    "        if self.source == self.target or not nx.has_path(network, self.source, self.target):\n",
    "            return self.source\n",
    "        else:\n",
    "            choices = list(nx.all_shortest_paths(network, self.source, self.target, weight='anticipated_latency'))\n",
    "            choice = random.choice(choices)\n",
    "            \n",
    "            if verbose:\n",
    "                print(f'Choose {choice} from {choices}.')\n",
    "            \n",
    "            return choice\n",
    "            \n",
    "\n",
    "class TrafficModel:\n",
    "    def __init__(self, network, cars) -> None:\n",
    "        self.network = network\n",
    "        self.cars = cars\n",
    "\n",
    "    def update_latencies(self):\n",
    "        nx.set_edge_attributes(self.network, {(v, w): attr['latency_fn'](attr['utilization']) for v, w, attr in self.network.edges(data=True)}, 'latency')\n",
    "        nx.set_edge_attributes(self.network, {(v, w): attr['latency_fn'](attr['utilization'] + (1 / len(self.cars))) for v, w, attr in self.network.edges(data=True)}, 'anticipated_latency')\n",
    "\n",
    "    def update_latency(self, edge):\n",
    "        self.network.edges[edge]['latency'] = self.network.edges[edge]['latency_fn'](self.network.edges[edge]['utilization'])\n",
    "        self.network.edges[edge]['anticipated_latency'] = self.network.edges[edge]['latency_fn'](self.network.edges[edge]['utilization'] + (1 / len(self.cars)))\n",
    "\n",
    "    @property\n",
    "    def allowed_network(self):\n",
    "        return nx.restricted_view(self.network, [], [(v, w) for v, w, allowed in self.network.edges(data='allowed') if not allowed])\n",
    "    \n",
    "    def decrease_utilization(self, edge):\n",
    "        self.set_utilization(edge, self.network.edges[edge]['utilization'] - (1 / len(self.cars)))\n",
    "\n",
    "    def increase_utilization(self, edge):\n",
    "        self.set_utilization(edge, self.network.edges[edge]['utilization'] + (1 / len(self.cars)))\n",
    "\n",
    "    def set_utilization(self, edge, utilization):\n",
    "        self.network.edges[edge]['utilization'] = utilization\n",
    "        self.update_latency(edge)\n",
    "\n",
    "    def open_edge(self, edge):\n",
    "        self.network.edges[edge]['allowed'] = True\n",
    "\n",
    "    def close_edge(self, edge):\n",
    "        self.network.edges[edge]['allowed'] = False"
   ]
  },
  {
   "cell_type": "code",
   "execution_count": 32,
   "metadata": {},
   "outputs": [],
   "source": [
    "def run(model, number_of_steps, verbose=False):\n",
    "    routes = {id: [] for id in model.cars}\n",
    "\n",
    "    nx.set_edge_attributes(model.network, 0, 'utilization')\n",
    "    model.update_latencies()\n",
    "\n",
    "    stats = []\n",
    "    for step in trange(number_of_steps):\n",
    "        for id, car in np.random.permutation(list(model.cars.items())):\n",
    "            for edge in zip(routes[id], routes[id][1:]):\n",
    "                model.decrease_utilization(edge)\n",
    "\n",
    "            # Let agents choose a route, given the network with allowed edges only\n",
    "            routes[id] = car.act(model.allowed_network, verbose=verbose)\n",
    "\n",
    "            for edge in zip(routes[id], routes[id][1:]):\n",
    "                model.increase_utilization(edge)\n",
    "\n",
    "        stats.append({\n",
    "            **routes, \n",
    "            **nx.get_edge_attributes(model.network, 'latency'), \n",
    "            **{f'u({id})': nx.path_weight(model.network, route, 'latency') for id, route in routes.items()}})\n",
    "\n",
    "    return pd.DataFrame(stats)"
   ]
  },
  {
   "cell_type": "code",
   "execution_count": 41,
   "metadata": {},
   "outputs": [],
   "source": [
    "network = nx.DiGraph([(0, 0), (0, 1), (0, 2), (1, 1), (1, 2), (1, 3), (2, 2), (2, 3), (3, 3)])\n",
    "\n",
    "node_positions = {\n",
    "    0: np.array([0, 0]),\n",
    "    1: np.array([0.33, 0]),\n",
    "    2: np.array([0.66, 0]),\n",
    "    3: np.array([1, 0])\n",
    "}\n",
    "\n",
    "nx.set_node_attributes(network, node_positions, 'position')\n",
    "\n",
    "# Latency is defined in terms of the utilization, i.e., the share of cars on a specific road\n",
    "latency_fns = {\n",
    "    (0, 0): lambda u: 1,\n",
    "    (0, 1): lambda u: 8 * u,\n",
    "    (0, 2): lambda u: 11,\n",
    "    (1, 1): lambda u: 1,\n",
    "    (1, 2): lambda u: 1,\n",
    "    (1, 3): lambda u: 11,\n",
    "    (2, 2): lambda u: 1,\n",
    "    (2, 3): lambda u: 8 * u,\n",
    "    (3, 3): lambda u: 1\n",
    "}\n",
    "\n",
    "nx.set_edge_attributes(network, latency_fns, 'latency_fn')\n",
    "\n",
    "nx.set_edge_attributes(network, 0, 'utilization')\n",
    "nx.set_edge_attributes(network, True, 'allowed')\n",
    "\n",
    "number_of_cars = 100\n",
    "cars = {id: Car(0, 3) for id in range(number_of_cars)}\n",
    "\n",
    "model = TrafficModel(network, cars)"
   ]
  },
  {
   "cell_type": "code",
   "execution_count": 42,
   "metadata": {},
   "outputs": [
    {
     "name": "stderr",
     "output_type": "stream",
     "text": [
      "100%|██████████| 10/10 [00:00<00:00, 199.67it/s]\n"
     ]
    }
   ],
   "source": [
    "model.open_edge((1, 2))\n",
    "stats = run(model, 10)\n",
    "\n",
    "# Calculate social welfare as mean agent reward per step\n",
    "stats['social_welfare'] = stats[[f'u({id})' for id in range(number_of_cars)]].mean(axis=1)"
   ]
  },
  {
   "cell_type": "code",
   "execution_count": 43,
   "metadata": {},
   "outputs": [
    {
     "data": {
      "text/plain": [
       "<Axes: >"
      ]
     },
     "execution_count": 43,
     "metadata": {},
     "output_type": "execute_result"
    },
    {
     "data": {
      "image/png": "[encoded data removed]",
      "text/plain": [
       "<Figure size 640x480 with 1 Axes>"
      ]
     },
     "metadata": {},
     "output_type": "display_data"
    }
   ],
   "source": [
    "stats['social_welfare'].plot()"
   ]
  }
 ],
 "metadata": {
  "kernelspec": {
   "display_name": ".venv",
   "language": "python",
   "name": "python3"
  },
  "language_info": {
   "codemirror_mode": {
    "name": "ipython",
    "version": 3
   },
   "file_extension": ".py",
   "mimetype": "text/x-python",
   "name": "python",
   "nbconvert_exporter": "python",
   "pygments_lexer": "ipython3",
   "version": "3.11.4"
  },
  "orig_nbformat": 4
 },
 "nbformat": 4,
 "nbformat_minor": 2
}
