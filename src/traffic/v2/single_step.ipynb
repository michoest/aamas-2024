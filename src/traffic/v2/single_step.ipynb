{
 "cells": [
  {
   "cell_type": "code",
   "execution_count": null,
   "metadata": {
    "collapsed": false,
    "pycharm": {
     "is_executing": true
    }
   },
   "outputs": [],
   "source": [
    "%load_ext autoreload\n",
    "%autoreload 2"
   ]
  },
  {
   "cell_type": "code",
   "execution_count": null,
   "metadata": {
    "collapsed": false
   },
   "outputs": [],
   "source": [
    "from environment import Car, TrafficModel\n",
    "from util.network import create_braess_network, create_double_braess_network\n",
    "from util.analysis import plot_social_welfare, plot_travel_time_per_route, plot_cars_per_edge, plot_cars_per_route, draw_edge_utilization, draw_latency_params, \\\n",
    "    plot_latency_increase_per_edge, plot_toll_per_edge, plot_latency_per_edge"
   ]
  },
  {
   "cell_type": "markdown",
   "metadata": {},
   "source": [
    "## Single Braess"
   ]
  },
  {
   "cell_type": "code",
   "execution_count": null,
   "metadata": {
    "collapsed": false
   },
   "outputs": [],
   "source": [
    "number_of_cars = 20\n",
    "number_of_steps = 20\n",
    "\n",
    "network = create_braess_network(capacity=number_of_cars)\n",
    "cars = {car_id: Car(car_id, 0, 3, anticipation_strategy='route_tolls', verbose=False) for car_id in range(number_of_cars)}\n",
    "\n",
    "model = TrafficModel(network, cars, R=0.1, beta=1)\n",
    "\n",
    "model.set_edge_restriction((1, 2), allowed=True)\n",
    "step_stats, car_stats = model.run_single_steps(number_of_steps)"
   ]
  },
  {
   "cell_type": "code",
   "execution_count": null,
   "metadata": {},
   "outputs": [],
   "source": [
    "plot_social_welfare(step_stats)"
   ]
  },
  {
   "cell_type": "code",
   "execution_count": null,
   "metadata": {},
   "outputs": [],
   "source": [
    "plot_travel_time_per_route(car_stats)"
   ]
  },
  {
   "cell_type": "code",
   "execution_count": null,
   "metadata": {},
   "outputs": [],
   "source": [
    "plot_cars_per_edge(car_stats)"
   ]
  },
  {
   "cell_type": "code",
   "execution_count": null,
   "metadata": {},
   "outputs": [],
   "source": [
    "plot_cars_per_route(car_stats)"
   ]
  },
  {
   "cell_type": "code",
   "execution_count": null,
   "metadata": {},
   "outputs": [],
   "source": [
    "plot_latency_per_edge(step_stats)"
   ]
  },
  {
   "cell_type": "code",
   "execution_count": null,
   "metadata": {},
   "outputs": [],
   "source": [
    "plot_toll_per_edge(step_stats)"
   ]
  },
  {
   "cell_type": "code",
   "execution_count": null,
   "metadata": {},
   "outputs": [],
   "source": [
    "draw_edge_utilization(model, car_stats)"
   ]
  },
  {
   "cell_type": "code",
   "execution_count": null,
   "metadata": {},
   "outputs": [],
   "source": [
    "plot_latency_increase_per_edge(model, step_stats)"
   ]
  },
  {
   "cell_type": "markdown",
   "metadata": {},
   "source": [
    "## Double Braess"
   ]
  },
  {
   "cell_type": "code",
   "execution_count": null,
   "metadata": {},
   "outputs": [],
   "source": [
    "import itertools\n",
    "\n",
    "options = itertools.product([(0, 3), ('A', 'B')], [True, False], [True, False])\n",
    "\n",
    "for (s, t), zero_two_open, one_two_open in options:\n",
    "    number_of_cars = 20\n",
    "    number_of_steps = 20\n",
    "\n",
    "    network = create_double_braess_network(capacity=number_of_cars)\n",
    "    cars = {car_id: Car(car_id, s, t, anticipation_strategy='route', verbose=False) for car_id in range(number_of_cars)}\n",
    "\n",
    "    model = TrafficModel(network, cars, R=0.1, beta=1)\n",
    "\n",
    "    model.set_edge_restriction((0, 2), allowed=zero_two_open)\n",
    "    model.set_edge_restriction((1, 2), allowed=one_two_open)\n",
    "    step_stats, car_stats = model.run_single_steps(number_of_steps)\n",
    "\n",
    "    print(f'{s=}, {t=}, {zero_two_open=}, {one_two_open=}, welfare={(-step_stats[\"travel_time\"]).mean(axis=1).mean()}')"
   ]
  },
  {
   "cell_type": "code",
   "execution_count": null,
   "metadata": {},
   "outputs": [],
   "source": [
    "number_of_cars = 20\n",
    "number_of_steps = 20\n",
    "\n",
    "network = create_double_braess_network(capacity=number_of_cars)\n",
    "cars = {car_id: Car(car_id, 'A', 'B', anticipation_strategy='route', verbose=False) for car_id in range(number_of_cars)}\n",
    "\n",
    "model = TrafficModel(network, cars, R=0.1, beta=1)\n",
    "\n",
    "model.set_edge_restriction((0, 2), allowed=True)\n",
    "model.set_edge_restriction((1, 2), allowed=False)\n",
    "step_stats, car_stats = model.run_single_steps(number_of_steps)"
   ]
  },
  {
   "cell_type": "code",
   "execution_count": null,
   "metadata": {},
   "outputs": [],
   "source": [
    "(-step_stats[\"travel_time\"]).mean(axis=1).mean()"
   ]
  },
  {
   "cell_type": "code",
   "execution_count": null,
   "metadata": {},
   "outputs": [],
   "source": [
    "plot_social_welfare(step_stats)"
   ]
  },
  {
   "cell_type": "code",
   "execution_count": null,
   "metadata": {},
   "outputs": [],
   "source": [
    "plot_cars_per_route(car_stats)"
   ]
  },
  {
   "cell_type": "code",
   "execution_count": null,
   "metadata": {},
   "outputs": [],
   "source": [
    "plot_latency_per_edge(step_stats)"
   ]
  },
  {
   "cell_type": "code",
   "execution_count": null,
   "metadata": {},
   "outputs": [],
   "source": [
    "plot_latency_increase_per_edge(model, step_stats)"
   ]
  },
  {
   "cell_type": "code",
   "execution_count": 190,
   "metadata": {},
   "outputs": [
    {
     "data": {
      "text/plain": [
       "{((0, 0), (0, 1)): (1, 2, 3),\n",
       " ((0, 0), (1, 0)): (1, 2, 3),\n",
       " ((0, 1), (0, 0)): (4, 5, 1),\n",
       " ((0, 1), (0, 2)): (1, 2, 3),\n",
       " ((0, 1), (1, 1)): (4, 5, 1),\n",
       " ((0, 2), (0, 1)): (1, 2, 3),\n",
       " ((0, 2), (1, 2)): (4, 5, 1),\n",
       " ((1, 0), (0, 0)): (4, 5, 1),\n",
       " ((1, 0), (1, 1)): (1, 2, 3),\n",
       " ((1, 1), (0, 1)): (1, 2, 3),\n",
       " ((1, 1), (1, 0)): (4, 5, 1),\n",
       " ((1, 1), (1, 2)): (4, 5, 1),\n",
       " ((1, 2), (0, 2)): (1, 2, 3),\n",
       " ((1, 2), (1, 1)): (1, 2, 3)}"
      ]
     },
     "execution_count": 190,
     "metadata": {},
     "output_type": "execute_result"
    }
   ],
   "source": [
    "from util.network import create_random_grid_network, ListLatencyGenerator\n",
    "nx.get_edge_attributes(create_random_grid_network(2, 3, ListLatencyGenerator([(1, 2, 3), (4, 5, 1)])), 'latency_params')"
   ]
  }
 ],
 "metadata": {
  "kernelspec": {
   "display_name": ".venv",
   "language": "python",
   "name": "python3"
  },
  "language_info": {
   "codemirror_mode": {
    "name": "ipython",
    "version": 3
   },
   "file_extension": ".py",
   "mimetype": "text/x-python",
   "name": "python",
   "nbconvert_exporter": "python",
   "pygments_lexer": "ipython3",
   "version": "3.11.4"
  },
  "orig_nbformat": 4
 },
 "nbformat": 4,
 "nbformat_minor": 2
}
