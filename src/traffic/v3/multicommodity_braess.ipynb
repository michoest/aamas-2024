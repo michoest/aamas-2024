{
 "cells": [
  {
   "cell_type": "markdown",
   "metadata": {},
   "source": [
    "# Setup"
   ]
  },
  {
   "cell_type": "code",
   "execution_count": 1,
   "metadata": {},
   "outputs": [],
   "source": [
    "%load_ext autoreload\n",
    "%autoreload 2"
   ]
  },
  {
   "cell_type": "code",
   "execution_count": 2,
   "metadata": {},
   "outputs": [],
   "source": [
    "import itertools\n",
    "\n",
    "from environment import TrafficModel, Car\n",
    "from util.network import create_braess_network, create_double_braess_network, create_cars, build_network\n",
    "\n",
    "import matplotlib.pyplot as plt\n",
    "import pandas as pd\n",
    "import numpy as np\n",
    "import networkx as nx\n",
    "from tqdm import trange"
   ]
  },
  {
   "cell_type": "code",
   "execution_count": 22,
   "metadata": {},
   "outputs": [],
   "source": [
    "def create_multicommodity_braess_graph(p, *, capacity=1, degree=1):\n",
    "    assert p % 2, 'p must be odd!'\n",
    "\n",
    "    network = nx.DiGraph(\n",
    "        [('s2', 'w0')] + [(f'w{i}', f'w{i + 1}') for i in range(0, p)] + [(f'w{p}', 't2')] + \n",
    "        [('s1', 'a'), ('a', 'w1'), ('w1', 'v1')] + [(f'v{i}', f'v{i + 1}') for i in range(1, p)] + [(f'v{p}', 't1')] + \n",
    "        [('a', f'w{i}') for i in range(2, p, 2)] + \n",
    "        [(f'v{i}', f'w{i}') for i in range(2, p, 2)] + \n",
    "        [('s2', f'v{i}') for i in range(1, p - 1, 2)] + \n",
    "        [(f'w{i}', f'v{i}') for i in range(1, p + 1, 2)] +\n",
    "        [('s1', 'w0')]\n",
    "    )\n",
    "\n",
    "    nx.set_node_attributes(\n",
    "        network, {\n",
    "            's1': (0, 2 / (p+3)),\n",
    "            'a': (1 / (p+4), 2 / (p+3)),\n",
    "            **{f'v{i}': ((i+3) / (p+4), 2 / (p+3)) for i in range(1, p + 1)},\n",
    "            't1': (1, 2 / (p+3)),\n",
    "            's2': (2 / (p+4), 0),\n",
    "            **{f'w{i}': (2 / (p+4), (i+1) / (p+3)) for i in range(0, p + 1)},\n",
    "            't2': (2 / (p+4), 1)\n",
    "        }, \"position\"\n",
    "    )\n",
    "\n",
    "    nx.set_edge_attributes(network, (0.01, 0, 1, 1), \"latency_params\")\n",
    "\n",
    "    nx.set_edge_attributes(\n",
    "        network, {\n",
    "            ('w0', 'w1'): (0, 1, capacity, degree),\n",
    "            **{(f'v{i}', f'v{i+1}') if i % 2 else (f'w{i}', f'w{i+1}'): (0, i, capacity, degree) for i in range(1, p)},\n",
    "            ('s1', 'a'): (1, 0, 1, 1)\n",
    "        }, \"latency_params\"\n",
    "    )\n",
    "\n",
    "    return build_network(network)"
   ]
  },
  {
   "cell_type": "code",
   "execution_count": 23,
   "metadata": {},
   "outputs": [],
   "source": [
    "def draw_network(network):\n",
    "    nx.draw(\n",
    "        network,\n",
    "        pos=nx.get_node_attributes(network, \"position\"),\n",
    "        with_labels=True,\n",
    "        font_size=8,\n",
    "        edgelist=[(v, w) for v, w in network.edges if v != w]\n",
    "    )"
   ]
  },
  {
   "cell_type": "code",
   "execution_count": 24,
   "metadata": {},
   "outputs": [
    {
     "data": {
      "image/png": "[encoded data removed]",
      "text/plain": [
       "<Figure size 640x480 with 1 Axes>"
      ]
     },
     "metadata": {},
     "output_type": "display_data"
    }
   ],
   "source": [
    "network = create_multicommodity_braess_graph(1)\n",
    "\n",
    "draw_network(network)"
   ]
  },
  {
   "cell_type": "code",
   "execution_count": 28,
   "metadata": {},
   "outputs": [
    {
     "name": "stdout",
     "output_type": "stream",
     "text": [
      "Unrestricted mean travel time: -3.9235058715475954\n"
     ]
    }
   ],
   "source": [
    "p = 1\n",
    "number_of_steps = 1000\n",
    "car_counts = {('s1', 't1'): 30, ('s2', 't2'): 30}\n",
    "\n",
    "network = create_multicommodity_braess_graph(p, capacity=10)\n",
    "model = TrafficModel(network, create_cars(network, car_counts=car_counts))\n",
    "\n",
    "step_stats, car_stats = model.run_sequentially(number_of_steps, show_progress=False)\n",
    "\n",
    "print(f'Unrestricted mean travel time: {(-car_stats[\"travel_time\"]).mean()}')"
   ]
  },
  {
   "cell_type": "code",
   "execution_count": 27,
   "metadata": {},
   "outputs": [
    {
     "name": "stdout",
     "output_type": "stream",
     "text": [
      "Unrestricted mean travel time: -3.423945998512671\n"
     ]
    }
   ],
   "source": [
    "p = 1\n",
    "number_of_steps = 1000\n",
    "car_counts = {('s1', 't1'): 30, ('s2', 't2'): 30}\n",
    "\n",
    "network = create_multicommodity_braess_graph(p, capacity=10)\n",
    "model = TrafficModel(network, create_cars(network, car_counts=car_counts))\n",
    "model.set_edge_restriction(('s1', 'w0'), False)\n",
    "\n",
    "step_stats, car_stats = model.run_sequentially(number_of_steps, show_progress=False)\n",
    "\n",
    "print(f'Unrestricted mean travel time: {(-car_stats[\"travel_time\"]).mean()}')"
   ]
  }
 ],
 "metadata": {
  "kernelspec": {
   "display_name": ".venv",
   "language": "python",
   "name": "python3"
  },
  "language_info": {
   "codemirror_mode": {
    "name": "ipython",
    "version": 3
   },
   "file_extension": ".py",
   "mimetype": "text/x-python",
   "name": "python",
   "nbconvert_exporter": "python",
   "pygments_lexer": "ipython3",
   "version": "3.11.4"
  },
  "orig_nbformat": 4
 },
 "nbformat": 4,
 "nbformat_minor": 2
}
