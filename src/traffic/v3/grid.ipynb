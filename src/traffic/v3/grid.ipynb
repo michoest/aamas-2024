{
 "cells": [
  {
   "cell_type": "code",
   "execution_count": null,
   "metadata": {
    "collapsed": false
   },
   "outputs": [],
   "source": [
    "%load_ext autoreload\n",
    "%autoreload 2"
   ]
  },
  {
   "cell_type": "code",
   "execution_count": null,
   "metadata": {
    "collapsed": false
   },
   "outputs": [],
   "source": [
    "from environment import TrafficModel, Car\n",
    "from util.network import create_random_grid_network, OneXLatencyGenerator\n",
    "\n",
    "import matplotlib.pyplot as plt\n",
    "import pandas as pd\n",
    "import numpy as np"
   ]
  },
  {
   "cell_type": "markdown",
   "metadata": {
    "collapsed": false
   },
   "source": [
    "### Debugging"
   ]
  },
  {
   "cell_type": "code",
   "execution_count": 28,
   "metadata": {
    "collapsed": false
   },
   "outputs": [
    {
     "name": "stderr",
     "output_type": "stream",
     "text": [
      "  0%|          | 0/100 [00:00<?, ?it/s]\n"
     ]
    },
    {
     "ename": "KeyError",
     "evalue": "(0, 0)",
     "output_type": "error",
     "traceback": [
      "\u001b[0;31m---------------------------------------------------------------------------\u001b[0m",
      "\u001b[0;31mKeyError\u001b[0m                                  Traceback (most recent call last)",
      "Cell \u001b[0;32mIn[28], line 11\u001b[0m\n\u001b[1;32m      4\u001b[0m cars \u001b[39m=\u001b[39m {\n\u001b[1;32m      5\u001b[0m     \u001b[39m0\u001b[39m: Car(\u001b[39m0\u001b[39m, (\u001b[39m0\u001b[39m, \u001b[39m0\u001b[39m), (\u001b[39m2\u001b[39m, \u001b[39m3\u001b[39m), \u001b[39m1\u001b[39m, anticipation_strategy\u001b[39m=\u001b[39m\u001b[39m'\u001b[39m\u001b[39medge\u001b[39m\u001b[39m'\u001b[39m),\n\u001b[1;32m      6\u001b[0m     \u001b[39m1\u001b[39m: Car(\u001b[39m1\u001b[39m, (\u001b[39m0\u001b[39m, \u001b[39m0\u001b[39m), (\u001b[39m2\u001b[39m, \u001b[39m3\u001b[39m), \u001b[39m1\u001b[39m, anticipation_strategy\u001b[39m=\u001b[39m\u001b[39m'\u001b[39m\u001b[39medge\u001b[39m\u001b[39m'\u001b[39m)\n\u001b[1;32m      7\u001b[0m }\n\u001b[1;32m      9\u001b[0m model \u001b[39m=\u001b[39m TrafficModel(network, cars)\n\u001b[0;32m---> 11\u001b[0m step_stats, car_stats \u001b[39m=\u001b[39m model\u001b[39m.\u001b[39;49mrun_sequentially(number_of_steps)\n",
      "File \u001b[0;32m~/Documents/Professional/Promotion/InES/Research/restricted-parking/src/traffic/v3/environment.py:272\u001b[0m, in \u001b[0;36mTrafficModel.run_sequentially\u001b[0;34m(self, number_of_steps)\u001b[0m\n\u001b[1;32m    269\u001b[0m     car\u001b[39m.\u001b[39mposition \u001b[39m=\u001b[39m (car\u001b[39m.\u001b[39mposition[\u001b[39m0\u001b[39m], \u001b[39mmin\u001b[39m(car\u001b[39m.\u001b[39mposition[\u001b[39m1\u001b[39m] \u001b[39m+\u001b[39m car\u001b[39m.\u001b[39mspeed, \u001b[39m1.0\u001b[39m))\n\u001b[1;32m    271\u001b[0m     \u001b[39mif\u001b[39;00m car\u001b[39m.\u001b[39mposition[\u001b[39m1\u001b[39m] \u001b[39m>\u001b[39m\u001b[39m=\u001b[39m \u001b[39m1.0\u001b[39m:\n\u001b[0;32m--> 272\u001b[0m         \u001b[39mself\u001b[39;49m\u001b[39m.\u001b[39;49mdecrease_flow(car\u001b[39m.\u001b[39;49mposition[\u001b[39m0\u001b[39;49m])\n\u001b[1;32m    274\u001b[0m \u001b[39mif\u001b[39;00m \u001b[39mself\u001b[39m\u001b[39m.\u001b[39mverbose:\n\u001b[1;32m    275\u001b[0m     \u001b[39mprint\u001b[39m(\n\u001b[1;32m    276\u001b[0m         \u001b[39mf\u001b[39m\u001b[39m\"\u001b[39m\u001b[39mPositions after step \u001b[39m\u001b[39m{\u001b[39;00mstep\u001b[39m}\u001b[39;00m\u001b[39m: \u001b[39m\u001b[39m{\u001b[39;00m[car\u001b[39m.\u001b[39mposition\u001b[39m \u001b[39m\u001b[39mfor\u001b[39;00m\u001b[39m \u001b[39mcar\u001b[39m \u001b[39m\u001b[39min\u001b[39;00m\u001b[39m \u001b[39m\u001b[39mself\u001b[39m\u001b[39m.\u001b[39mcars\u001b[39m.\u001b[39mvalues()]\u001b[39m}\u001b[39;00m\u001b[39m\"\u001b[39m\n\u001b[1;32m    277\u001b[0m     )\n",
      "File \u001b[0;32m~/Documents/Professional/Promotion/InES/Research/restricted-parking/src/traffic/v3/environment.py:151\u001b[0m, in \u001b[0;36mTrafficModel.decrease_flow\u001b[0;34m(self, edge)\u001b[0m\n\u001b[1;32m    150\u001b[0m \u001b[39mdef\u001b[39;00m \u001b[39mdecrease_flow\u001b[39m(\u001b[39mself\u001b[39m, edge):\n\u001b[0;32m--> 151\u001b[0m     \u001b[39mself\u001b[39m\u001b[39m.\u001b[39mnetwork\u001b[39m.\u001b[39medges[edge][\u001b[39m\"\u001b[39m\u001b[39mflow\u001b[39m\u001b[39m\"\u001b[39m] \u001b[39m=\u001b[39m \u001b[39mself\u001b[39;49m\u001b[39m.\u001b[39;49mnetwork\u001b[39m.\u001b[39;49medges[edge][\u001b[39m\"\u001b[39m\u001b[39mflow\u001b[39m\u001b[39m\"\u001b[39m] \u001b[39m-\u001b[39m \u001b[39m1\u001b[39m\n\u001b[1;32m    152\u001b[0m     \u001b[39mself\u001b[39m\u001b[39m.\u001b[39mupdate_edge_attributes(edge)\n",
      "File \u001b[0;32m~/Documents/Professional/Promotion/InES/Research/restricted-parking/.venv/lib/python3.11/site-packages/networkx/classes/reportviews.py:1085\u001b[0m, in \u001b[0;36mOutEdgeView.__getitem__\u001b[0;34m(self, e)\u001b[0m\n\u001b[1;32m   1080\u001b[0m     \u001b[39mraise\u001b[39;00m nx\u001b[39m.\u001b[39mNetworkXError(\n\u001b[1;32m   1081\u001b[0m         \u001b[39mf\u001b[39m\u001b[39m\"\u001b[39m\u001b[39m{\u001b[39;00m\u001b[39mtype\u001b[39m(\u001b[39mself\u001b[39m)\u001b[39m.\u001b[39m\u001b[39m__name__\u001b[39m\u001b[39m}\u001b[39;00m\u001b[39m does not support slicing, \u001b[39m\u001b[39m\"\u001b[39m\n\u001b[1;32m   1082\u001b[0m         \u001b[39mf\u001b[39m\u001b[39m\"\u001b[39m\u001b[39mtry list(G.edges)[\u001b[39m\u001b[39m{\u001b[39;00me\u001b[39m.\u001b[39mstart\u001b[39m}\u001b[39;00m\u001b[39m:\u001b[39m\u001b[39m{\u001b[39;00me\u001b[39m.\u001b[39mstop\u001b[39m}\u001b[39;00m\u001b[39m:\u001b[39m\u001b[39m{\u001b[39;00me\u001b[39m.\u001b[39mstep\u001b[39m}\u001b[39;00m\u001b[39m]\u001b[39m\u001b[39m\"\u001b[39m\n\u001b[1;32m   1083\u001b[0m     )\n\u001b[1;32m   1084\u001b[0m u, v \u001b[39m=\u001b[39m e\n\u001b[0;32m-> 1085\u001b[0m \u001b[39mreturn\u001b[39;00m \u001b[39mself\u001b[39;49m\u001b[39m.\u001b[39;49m_adjdict[u][v]\n",
      "\u001b[0;31mKeyError\u001b[0m: (0, 0)"
     ]
    }
   ],
   "source": [
    "number_of_steps = 100\n",
    "\n",
    "network = create_random_grid_network(3, 4, OneXLatencyGenerator(capacity=2))\n",
    "cars = {\n",
    "    0: Car(0, (0, 0), (2, 3), 1, anticipation_strategy='edge'),\n",
    "    1: Car(1, (0, 0), (2, 3), 1, anticipation_strategy='edge')\n",
    "}\n",
    "\n",
    "model = TrafficModel(network, cars)\n",
    "\n",
    "step_stats, car_stats = model.run_sequentially(number_of_steps)"
   ]
  },
  {
   "cell_type": "code",
   "execution_count": null,
   "metadata": {
    "collapsed": false
   },
   "outputs": [],
   "source": [
    "step_stats"
   ]
  },
  {
   "cell_type": "code",
   "execution_count": null,
   "metadata": {
    "collapsed": false
   },
   "outputs": [],
   "source": [
    "car_stats"
   ]
  },
  {
   "cell_type": "code",
   "execution_count": null,
   "metadata": {
    "collapsed": false
   },
   "outputs": [],
   "source": [
    "(-car_stats[\"travel_time\"]).mean()"
   ]
  },
  {
   "cell_type": "code",
   "execution_count": null,
   "metadata": {
    "collapsed": false
   },
   "outputs": [],
   "source": [
    "step_stats['flow'].plot()"
   ]
  },
  {
   "cell_type": "code",
   "execution_count": null,
   "metadata": {},
   "outputs": [],
   "source": []
  },
  {
   "cell_type": "markdown",
   "metadata": {},
   "source": [
    "### Remove one edge at a time and find optimum"
   ]
  },
  {
   "cell_type": "code",
   "execution_count": 26,
   "metadata": {},
   "outputs": [
    {
     "name": "stderr",
     "output_type": "stream",
     "text": [
      "100%|██████████| 100/100 [00:00<00:00, 2634.98it/s]\n",
      "100%|██████████| 100/100 [00:00<00:00, 2748.69it/s]\n",
      "100%|██████████| 100/100 [00:00<00:00, 2748.24it/s]\n",
      "100%|██████████| 100/100 [00:00<00:00, 2807.34it/s]\n",
      "100%|██████████| 100/100 [00:00<00:00, 2820.63it/s]\n",
      "100%|██████████| 100/100 [00:00<00:00, 2769.56it/s]\n",
      "100%|██████████| 100/100 [00:00<00:00, 2749.07it/s]\n",
      "100%|██████████| 100/100 [00:00<00:00, 2574.95it/s]\n",
      "100%|██████████| 100/100 [00:00<00:00, 2725.15it/s]\n",
      "100%|██████████| 100/100 [00:00<00:00, 2804.19it/s]\n",
      "100%|██████████| 100/100 [00:00<00:00, 2828.87it/s]\n",
      "100%|██████████| 100/100 [00:00<00:00, 2801.26it/s]\n",
      "100%|██████████| 100/100 [00:00<00:00, 2635.46it/s]\n",
      "100%|██████████| 100/100 [00:00<00:00, 2724.49it/s]\n",
      "100%|██████████| 100/100 [00:00<00:00, 2732.11it/s]\n",
      "100%|██████████| 100/100 [00:00<00:00, 2777.13it/s]\n",
      "100%|██████████| 100/100 [00:00<00:00, 2803.79it/s]\n",
      "100%|██████████| 100/100 [00:00<00:00, 2785.45it/s]\n",
      "100%|██████████| 100/100 [00:00<00:00, 2801.28it/s]\n",
      "100%|██████████| 100/100 [00:00<00:00, 2795.64it/s]\n",
      "100%|██████████| 100/100 [00:00<00:00, 2814.84it/s]\n",
      "100%|██████████| 100/100 [00:00<00:00, 2786.76it/s]\n",
      "100%|██████████| 100/100 [00:00<00:00, 2802.20it/s]\n",
      "100%|██████████| 100/100 [00:00<00:00, 2827.55it/s]\n",
      "100%|██████████| 100/100 [00:00<00:00, 2786.82it/s]\n",
      "100%|██████████| 100/100 [00:00<00:00, 2811.69it/s]\n",
      "100%|██████████| 100/100 [00:00<00:00, 2808.97it/s]\n",
      "100%|██████████| 100/100 [00:00<00:00, 2773.17it/s]\n",
      "100%|██████████| 100/100 [00:00<00:00, 2805.76it/s]\n",
      "100%|██████████| 100/100 [00:00<00:00, 2802.78it/s]\n",
      "100%|██████████| 100/100 [00:00<00:00, 2787.69it/s]\n",
      "100%|██████████| 100/100 [00:00<00:00, 2826.29it/s]\n",
      "100%|██████████| 100/100 [00:00<00:00, 2811.37it/s]\n",
      "100%|██████████| 100/100 [00:00<00:00, 2826.79it/s]\n"
     ]
    }
   ],
   "source": [
    "number_of_steps = 100\n",
    "network = create_random_grid_network(3, 4, OneXLatencyGenerator(capacity=2))\n",
    "\n",
    "results = []\n",
    "for edge in network.edges:\n",
    "    network = create_random_grid_network(3, 4, OneXLatencyGenerator(capacity=2))\n",
    "    cars = {\n",
    "        0: Car(0, (0, 0), (2, 3), 1, anticipation_strategy='edge', position=(((0, 0), (0, 1)), 0)),\n",
    "        1: Car(1, (0, 0), (2, 3), 1, anticipation_strategy='edge', position=(((0, 0), (1, 0)), 0))\n",
    "    }\n",
    "\n",
    "    model = TrafficModel(network, cars)\n",
    "\n",
    "    model.set_edge_restriction(edge, allowed=False)\n",
    "\n",
    "    step_stats, car_stats = model.run_sequentially(number_of_steps)\n",
    "\n",
    "    results.append({'closed_edge': edge, 'social_welfare': (-car_stats[\"travel_time\"]).mean()})\n",
    "\n",
    "results = pd.DataFrame(results)"
   ]
  },
  {
   "cell_type": "code",
   "execution_count": 27,
   "metadata": {},
   "outputs": [
    {
     "data": {
      "text/html": [
       "<div>\n",
       "<style scoped>\n",
       "    .dataframe tbody tr th:only-of-type {\n",
       "        vertical-align: middle;\n",
       "    }\n",
       "\n",
       "    .dataframe tbody tr th {\n",
       "        vertical-align: top;\n",
       "    }\n",
       "\n",
       "    .dataframe thead th {\n",
       "        text-align: right;\n",
       "    }\n",
       "</style>\n",
       "<table border=\"1\" class=\"dataframe\">\n",
       "  <thead>\n",
       "    <tr style=\"text-align: right;\">\n",
       "      <th></th>\n",
       "      <th>closed_edge</th>\n",
       "      <th>social_welfare</th>\n",
       "    </tr>\n",
       "  </thead>\n",
       "  <tbody>\n",
       "    <tr>\n",
       "      <th>0</th>\n",
       "      <td>((0, 0), (0, 1))</td>\n",
       "      <td>-9.8</td>\n",
       "    </tr>\n",
       "    <tr>\n",
       "      <th>1</th>\n",
       "      <td>((0, 0), (1, 0))</td>\n",
       "      <td>-9.8</td>\n",
       "    </tr>\n",
       "    <tr>\n",
       "      <th>2</th>\n",
       "      <td>((0, 1), (0, 0))</td>\n",
       "      <td>-9.8</td>\n",
       "    </tr>\n",
       "    <tr>\n",
       "      <th>3</th>\n",
       "      <td>((0, 1), (0, 2))</td>\n",
       "      <td>-9.8</td>\n",
       "    </tr>\n",
       "    <tr>\n",
       "      <th>4</th>\n",
       "      <td>((0, 1), (1, 1))</td>\n",
       "      <td>-9.8</td>\n",
       "    </tr>\n",
       "    <tr>\n",
       "      <th>5</th>\n",
       "      <td>((0, 2), (0, 1))</td>\n",
       "      <td>-9.8</td>\n",
       "    </tr>\n",
       "    <tr>\n",
       "      <th>6</th>\n",
       "      <td>((0, 2), (0, 3))</td>\n",
       "      <td>-9.8</td>\n",
       "    </tr>\n",
       "    <tr>\n",
       "      <th>7</th>\n",
       "      <td>((0, 2), (1, 2))</td>\n",
       "      <td>-9.8</td>\n",
       "    </tr>\n",
       "    <tr>\n",
       "      <th>8</th>\n",
       "      <td>((0, 3), (0, 2))</td>\n",
       "      <td>-9.8</td>\n",
       "    </tr>\n",
       "    <tr>\n",
       "      <th>9</th>\n",
       "      <td>((0, 3), (1, 3))</td>\n",
       "      <td>-9.8</td>\n",
       "    </tr>\n",
       "    <tr>\n",
       "      <th>10</th>\n",
       "      <td>((1, 0), (0, 0))</td>\n",
       "      <td>-9.8</td>\n",
       "    </tr>\n",
       "    <tr>\n",
       "      <th>11</th>\n",
       "      <td>((1, 0), (1, 1))</td>\n",
       "      <td>-9.8</td>\n",
       "    </tr>\n",
       "    <tr>\n",
       "      <th>12</th>\n",
       "      <td>((1, 0), (2, 0))</td>\n",
       "      <td>-9.8</td>\n",
       "    </tr>\n",
       "    <tr>\n",
       "      <th>13</th>\n",
       "      <td>((1, 1), (0, 1))</td>\n",
       "      <td>-9.8</td>\n",
       "    </tr>\n",
       "    <tr>\n",
       "      <th>14</th>\n",
       "      <td>((1, 1), (1, 0))</td>\n",
       "      <td>-9.8</td>\n",
       "    </tr>\n",
       "    <tr>\n",
       "      <th>15</th>\n",
       "      <td>((1, 1), (1, 2))</td>\n",
       "      <td>-9.8</td>\n",
       "    </tr>\n",
       "    <tr>\n",
       "      <th>16</th>\n",
       "      <td>((1, 1), (2, 1))</td>\n",
       "      <td>-9.8</td>\n",
       "    </tr>\n",
       "    <tr>\n",
       "      <th>17</th>\n",
       "      <td>((1, 2), (0, 2))</td>\n",
       "      <td>-9.8</td>\n",
       "    </tr>\n",
       "    <tr>\n",
       "      <th>18</th>\n",
       "      <td>((1, 2), (1, 1))</td>\n",
       "      <td>-9.8</td>\n",
       "    </tr>\n",
       "    <tr>\n",
       "      <th>19</th>\n",
       "      <td>((1, 2), (1, 3))</td>\n",
       "      <td>-9.8</td>\n",
       "    </tr>\n",
       "    <tr>\n",
       "      <th>20</th>\n",
       "      <td>((1, 2), (2, 2))</td>\n",
       "      <td>-9.8</td>\n",
       "    </tr>\n",
       "    <tr>\n",
       "      <th>21</th>\n",
       "      <td>((1, 3), (0, 3))</td>\n",
       "      <td>-9.8</td>\n",
       "    </tr>\n",
       "    <tr>\n",
       "      <th>22</th>\n",
       "      <td>((1, 3), (1, 2))</td>\n",
       "      <td>-9.8</td>\n",
       "    </tr>\n",
       "    <tr>\n",
       "      <th>23</th>\n",
       "      <td>((1, 3), (2, 3))</td>\n",
       "      <td>-9.8</td>\n",
       "    </tr>\n",
       "    <tr>\n",
       "      <th>24</th>\n",
       "      <td>((2, 0), (1, 0))</td>\n",
       "      <td>-9.8</td>\n",
       "    </tr>\n",
       "    <tr>\n",
       "      <th>25</th>\n",
       "      <td>((2, 0), (2, 1))</td>\n",
       "      <td>-9.8</td>\n",
       "    </tr>\n",
       "    <tr>\n",
       "      <th>26</th>\n",
       "      <td>((2, 1), (1, 1))</td>\n",
       "      <td>-9.8</td>\n",
       "    </tr>\n",
       "    <tr>\n",
       "      <th>27</th>\n",
       "      <td>((2, 1), (2, 0))</td>\n",
       "      <td>-9.8</td>\n",
       "    </tr>\n",
       "    <tr>\n",
       "      <th>28</th>\n",
       "      <td>((2, 1), (2, 2))</td>\n",
       "      <td>-9.8</td>\n",
       "    </tr>\n",
       "    <tr>\n",
       "      <th>29</th>\n",
       "      <td>((2, 2), (1, 2))</td>\n",
       "      <td>-9.8</td>\n",
       "    </tr>\n",
       "    <tr>\n",
       "      <th>30</th>\n",
       "      <td>((2, 2), (2, 1))</td>\n",
       "      <td>-9.8</td>\n",
       "    </tr>\n",
       "    <tr>\n",
       "      <th>31</th>\n",
       "      <td>((2, 2), (2, 3))</td>\n",
       "      <td>-9.8</td>\n",
       "    </tr>\n",
       "    <tr>\n",
       "      <th>32</th>\n",
       "      <td>((2, 3), (1, 3))</td>\n",
       "      <td>-9.8</td>\n",
       "    </tr>\n",
       "    <tr>\n",
       "      <th>33</th>\n",
       "      <td>((2, 3), (2, 2))</td>\n",
       "      <td>-9.8</td>\n",
       "    </tr>\n",
       "  </tbody>\n",
       "</table>\n",
       "</div>"
      ],
      "text/plain": [
       "         closed_edge  social_welfare\n",
       "0   ((0, 0), (0, 1))            -9.8\n",
       "1   ((0, 0), (1, 0))            -9.8\n",
       "2   ((0, 1), (0, 0))            -9.8\n",
       "3   ((0, 1), (0, 2))            -9.8\n",
       "4   ((0, 1), (1, 1))            -9.8\n",
       "5   ((0, 2), (0, 1))            -9.8\n",
       "6   ((0, 2), (0, 3))            -9.8\n",
       "7   ((0, 2), (1, 2))            -9.8\n",
       "8   ((0, 3), (0, 2))            -9.8\n",
       "9   ((0, 3), (1, 3))            -9.8\n",
       "10  ((1, 0), (0, 0))            -9.8\n",
       "11  ((1, 0), (1, 1))            -9.8\n",
       "12  ((1, 0), (2, 0))            -9.8\n",
       "13  ((1, 1), (0, 1))            -9.8\n",
       "14  ((1, 1), (1, 0))            -9.8\n",
       "15  ((1, 1), (1, 2))            -9.8\n",
       "16  ((1, 1), (2, 1))            -9.8\n",
       "17  ((1, 2), (0, 2))            -9.8\n",
       "18  ((1, 2), (1, 1))            -9.8\n",
       "19  ((1, 2), (1, 3))            -9.8\n",
       "20  ((1, 2), (2, 2))            -9.8\n",
       "21  ((1, 3), (0, 3))            -9.8\n",
       "22  ((1, 3), (1, 2))            -9.8\n",
       "23  ((1, 3), (2, 3))            -9.8\n",
       "24  ((2, 0), (1, 0))            -9.8\n",
       "25  ((2, 0), (2, 1))            -9.8\n",
       "26  ((2, 1), (1, 1))            -9.8\n",
       "27  ((2, 1), (2, 0))            -9.8\n",
       "28  ((2, 1), (2, 2))            -9.8\n",
       "29  ((2, 2), (1, 2))            -9.8\n",
       "30  ((2, 2), (2, 1))            -9.8\n",
       "31  ((2, 2), (2, 3))            -9.8\n",
       "32  ((2, 3), (1, 3))            -9.8\n",
       "33  ((2, 3), (2, 2))            -9.8"
      ]
     },
     "execution_count": 27,
     "metadata": {},
     "output_type": "execute_result"
    }
   ],
   "source": [
    "results"
   ]
  },
  {
   "cell_type": "markdown",
   "metadata": {
    "collapsed": false
   },
   "source": [
    "### Find optimal capacity"
   ]
  },
  {
   "cell_type": "code",
   "execution_count": null,
   "metadata": {
    "collapsed": false
   },
   "outputs": [],
   "source": [
    "def get_cars():\n",
    "    return {\n",
    "             0: Car( 0, 0, 3, 1/4, position=((0, 1), 0 / 4)),\n",
    "             1: Car( 1, 0, 3, 1/4, position=((0, 1), 1 / 4)),\n",
    "             2: Car( 2, 0, 3, 1/4, position=((0, 1), 2 / 4)),\n",
    "             3: Car( 3, 0, 3, 1/4, position=((0, 1), 3 / 4)),\n",
    "             4: Car( 4, 0, 3, 1/11, position=((1, 3), 0 / 11)),\n",
    "             5: Car( 5, 0, 3, 1/11, position=((1, 3), 1 / 11)),\n",
    "             6: Car( 6, 0, 3, 1/11, position=((1, 3), 2 / 11)),\n",
    "             7: Car( 7, 0, 3, 1/11, position=((1, 3), 3 / 11)),\n",
    "             8: Car( 8, 0, 3, 1/11, position=((1, 3), 4 / 11)),\n",
    "             9: Car( 9, 0, 3, 1/11, position=((1, 3), 5 / 11)),\n",
    "            10: Car(10, 0, 3, 1/11, position=((1, 3), 6 / 11)),\n",
    "            11: Car(11, 0, 3, 1/11, position=((1, 3), 7 / 11)),\n",
    "            12: Car(12, 0, 3, 1/11, position=((1, 3), 8 / 11)),\n",
    "            13: Car(13, 0, 3, 1/11, position=((1, 3), 9 / 11)),\n",
    "            14: Car(14, 0, 3, 1/11, position=((1, 3), 10 / 11)),\n",
    "            15: Car(15, 0, 3, 1/11, position=((0, 2), 0 / 11)),\n",
    "            16: Car(16, 0, 3, 1/11, position=((0, 2), 1 / 11)),\n",
    "            17: Car(17, 0, 3, 1/11, position=((0, 2), 2 / 11)),\n",
    "            18: Car(18, 0, 3, 1/11, position=((0, 2), 3 / 11)),\n",
    "            19: Car(19, 0, 3, 1/11, position=((0, 2), 4 / 11)),\n",
    "            20: Car(20, 0, 3, 1/11, position=((0, 2), 5 / 11)),\n",
    "            21: Car(21, 0, 3, 1/11, position=((0, 2), 6 / 11)),\n",
    "            22: Car(22, 0, 3, 1/11, position=((0, 2), 7 / 11)),\n",
    "            23: Car(23, 0, 3, 1/11, position=((0, 2), 8 / 11)),\n",
    "            24: Car(24, 0, 3, 1/11, position=((0, 2), 9 / 11)),\n",
    "            25: Car(25, 0, 3, 1/11, position=((0, 2), 10 / 11)),\n",
    "            26: Car(26, 0, 3, 1/4, position=((2, 3), 0 / 4)),\n",
    "            27: Car(27, 0, 3, 1/4, position=((2, 3), 1 / 4)),\n",
    "            28: Car(28, 0, 3, 1/4, position=((2, 3), 2 / 4)),\n",
    "            29: Car(29, 0, 3, 1/4, position=((2, 3), 3 / 4)),\n",
    "        }\n",
    "number_of_steps = 1000"
   ]
  },
  {
   "cell_type": "code",
   "execution_count": null,
   "metadata": {
    "collapsed": false
   },
   "outputs": [],
   "source": [
    "number_of_steps = 1000\n",
    "\n",
    "mean_travel_times_allowed = []\n",
    "mean_travel_times_prohibited = []\n",
    "for capacity in range(2, 30):\n",
    "    for allowed_edge in [True, False]:\n",
    "        model = TrafficModel(create_braess_network(capacity=capacity), get_cars())\n",
    "        model.set_edge_restriction((1, 2), allowed=allowed_edge)\n",
    "        step_stats, car_stats = model.run_sequentially(number_of_steps)\n",
    "\n",
    "        if allowed_edge:\n",
    "            mean_travel_times_allowed.append((-car_stats[\"travel_time\"]).mean())\n",
    "        else:\n",
    "            mean_travel_times_prohibited.append((-car_stats[\"travel_time\"]).mean())\n",
    "\n",
    "f, (ax1, ax2) = plt.subplots(1, 2)\n",
    "f.set_figwidth(10)\n",
    "ax1.plot(range(2,30), pd.DataFrame({'allowed': mean_travel_times_allowed, 'prohibited': mean_travel_times_prohibited}))\n",
    "ax1.set_title('Mean Travel Times')\n",
    "\n",
    "improvement = np.array(mean_travel_times_prohibited) - np.array(mean_travel_times_allowed)\n",
    "ax2.plot(range(2,30), improvement)\n",
    "ax2.set_title('Improvement')\n",
    "\n",
    "plt.show()\n",
    "\n",
    "print(f'Best improvement found with capacity: {np.argmax(improvement) + 2}')"
   ]
  },
  {
   "cell_type": "code",
   "execution_count": null,
   "metadata": {
    "collapsed": false
   },
   "outputs": [],
   "source": [
    "model = TrafficModel(create_braess_network(capacity=13), get_cars())\n",
    "model.set_edge_restriction((1, 2), allowed=True)\n",
    "step_stats, car_stats = model.run_sequentially(number_of_steps)"
   ]
  },
  {
   "cell_type": "code",
   "execution_count": null,
   "metadata": {
    "collapsed": false
   },
   "outputs": [],
   "source": [
    "(-car_stats[\"travel_time\"]).mean()"
   ]
  },
  {
   "cell_type": "code",
   "execution_count": null,
   "metadata": {
    "collapsed": false
   },
   "outputs": [],
   "source": [
    "car_stats.groupby('route').count()"
   ]
  },
  {
   "cell_type": "code",
   "execution_count": null,
   "metadata": {
    "collapsed": false
   },
   "outputs": [],
   "source": [
    "step_stats"
   ]
  },
  {
   "cell_type": "markdown",
   "metadata": {
    "collapsed": false
   },
   "source": [
    "### Double Braess"
   ]
  },
  {
   "cell_type": "code",
   "execution_count": null,
   "metadata": {
    "collapsed": false
   },
   "outputs": [],
   "source": [
    "def get_cars(capacity=100):\n",
    "    return {\n",
    "    # A -> 0\n",
    "    1: Car(1, 'A', 'B', 1/(2 + (6 / capacity) * 4), position=(('A', 0), 0)),\n",
    "    2: Car(2, 'A', 'B', 1/(2 + (6 / capacity) * 4), position=(('A', 0), (1/(2 + (6 / capacity) * 4)) * 0.25)),\n",
    "    3: Car(3, 'A', 'B', 1/(2 + (6 / capacity) * 4), position=(('A', 0), (1/(2 + (6 / capacity) * 4)) * 0.5)),\n",
    "    4: Car(4, 'A', 'B', 1/(2 + (6 / capacity) * 4), position=(('A', 0), (1/(2 + (6 / capacity) * 4)) * 0.75)),\n",
    "    # 0 -> 1\n",
    "    5: Car(5, 0, 3, 1/(2 + (6 / capacity) * 4), position=((0, 1), 0)),\n",
    "    6: Car(6, 0, 3, 1/(2 + (6 / capacity) * 4), position=((0, 1), (1/(2 + (6 / capacity) * 4)) * 0.25)),\n",
    "    7: Car(7, 0, 3, 1/(2 + (6 / capacity) * 4), position=((0, 1), (1/(2 + (6 / capacity) * 4)) * 0.5)),\n",
    "    8: Car(8, 0, 3, 1/(2 + (6 / capacity) * 4), position=((0, 1), (1/(2 + (6 / capacity) * 4)) * 0.75)),\n",
    "    # 2 -> 3\n",
    "    9: Car(9, 0, 3, 1/(2 + (6 / capacity) * 4), position=((2, 3), 0)),\n",
    "    10: Car(10, 0, 3, 1/(2 + (6 / capacity) * 4), position=((2, 3), (1/(2 + (6 / capacity) * 4)) * 0.25)),\n",
    "    11: Car(11, 0, 3, 1/(2 + (6 / capacity) * 4), position=((2, 3), (1/(2 + (6 / capacity) * 4)) * 0.5)),\n",
    "    12: Car(12, 0, 3, 1/(2 + (6 / capacity) * 4), position=((2, 3), (1/(2 + (6 / capacity) * 4)) * 0.75)),\n",
    "    # 0 -> 2\n",
    "    13: Car(13, 0, 3, 1/10, position=((0, 2), 0)),\n",
    "    14: Car(14, 0, 3, 1/10, position=((0, 2), 0.5)),\n",
    "    # 1 -> 3\n",
    "    15: Car(15, 0, 3, 1/10, position=((1, 3), 0)),\n",
    "    16: Car(16, 0, 3, 1/10, position=((1, 3), 0.5)),\n",
    "    # 2 -> B\n",
    "    17: Car(17, 'A', 'B', 1/(2 + (6 / capacity) * 4), position=((2, 'B'), 0)),\n",
    "    18: Car(18, 'A', 'B', 1/(2 + (6 / capacity) * 4), position=((2, 'B'), (1/(2 + (6 / capacity) * 4)) * 0.25)),\n",
    "    19: Car(19, 'A', 'B', 1/(2 + (6 / capacity) * 4), position=((2, 'B'), (1/(2 + (6 / capacity) * 4)) * 0.5)),\n",
    "    20: Car(20, 'A', 'B', 1/(2 + (6 / capacity) * 4), position=(('A', 0), (1/(2 + (6 / capacity) * 4)) * 0.75 )),\n",
    "    # A -> 2\n",
    "    21: Car(21, 'A', 'B', 1/19, position=(('A', 2), 0)),\n",
    "    22: Car(22, 'A', 'B', 1/19, position=(('A', 2), (1 / 19) * 0.25)),\n",
    "    # 0 -> B\n",
    "    23: Car(23, 'A', 'B', 1/19, position=((0, 'B'), 0)),\n",
    "    24: Car(24, 'A', 'B', 1/19, position=((0, 'B'), (1 / 19) * 0.25))\n",
    "}"
   ]
  },
  {
   "cell_type": "code",
   "execution_count": null,
   "metadata": {
    "collapsed": false
   },
   "outputs": [],
   "source": [
    "number_of_steps = 1000\n",
    "\n",
    "mean_travel_times_allowed = []\n",
    "mean_travel_times_prohibited = []\n",
    "for capacity in range(2, 30):\n",
    "    for allowed_edge in [True, False]:\n",
    "        model = TrafficModel(create_double_braess_network(capacity=capacity), get_cars())\n",
    "        model.set_edge_restriction((1, 2), allowed=allowed_edge)\n",
    "        step_stats, car_stats = model.run_sequentially(number_of_steps)\n",
    "\n",
    "        if allowed_edge:\n",
    "            mean_travel_times_allowed.append((-car_stats[\"travel_time\"]).mean())\n",
    "        else:\n",
    "            mean_travel_times_prohibited.append((-car_stats[\"travel_time\"]).mean())\n",
    "\n",
    "f, (ax1, ax2) = plt.subplots(1, 2)\n",
    "f.set_figwidth(10)\n",
    "ax1.plot(range(2,30), pd.DataFrame({'allowed': mean_travel_times_allowed, 'prohibited': mean_travel_times_prohibited}))\n",
    "ax1.set_title('Mean Travel Times')\n",
    "\n",
    "improvement = np.array(mean_travel_times_prohibited) - np.array(mean_travel_times_allowed)\n",
    "ax2.plot(range(2,30), improvement)\n",
    "ax2.set_title('Improvement')\n",
    "\n",
    "plt.show()\n",
    "\n",
    "print(f'Best improvement found with capacity: {np.argmax(improvement) + 2}')"
   ]
  },
  {
   "cell_type": "code",
   "execution_count": null,
   "metadata": {
    "collapsed": false
   },
   "outputs": [],
   "source": [
    "model = TrafficModel(create_double_braess_network(capacity=6), get_cars(capacity=6))\n",
    "model.set_edge_restriction((0, 2), allowed=False)\n",
    "model.set_edge_restriction((1, 2), allowed=False)\n",
    "step_stats, car_stats = model.run_sequentially(number_of_steps)"
   ]
  },
  {
   "cell_type": "code",
   "execution_count": null,
   "metadata": {
    "collapsed": false
   },
   "outputs": [],
   "source": [
    "(-car_stats[\"travel_time\"]).mean()"
   ]
  },
  {
   "cell_type": "code",
   "execution_count": null,
   "metadata": {
    "collapsed": false
   },
   "outputs": [],
   "source": [
    "car_stats.groupby('route').count()"
   ]
  },
  {
   "cell_type": "code",
   "execution_count": null,
   "metadata": {
    "collapsed": false
   },
   "outputs": [],
   "source": [
    "car_stats.groupby([\"route\"])[\"travel_time\"].mean()"
   ]
  },
  {
   "cell_type": "markdown",
   "metadata": {},
   "source": [
    "# Playground"
   ]
  },
  {
   "cell_type": "code",
   "execution_count": null,
   "metadata": {},
   "outputs": [],
   "source": []
  }
 ],
 "metadata": {
  "kernelspec": {
   "display_name": "Python 3",
   "language": "python",
   "name": "python3"
  },
  "language_info": {
   "codemirror_mode": {
    "name": "ipython",
    "version": 3
   },
   "file_extension": ".py",
   "mimetype": "text/x-python",
   "name": "python",
   "nbconvert_exporter": "python",
   "pygments_lexer": "ipython3",
   "version": "3.11.4"
  }
 },
 "nbformat": 4,
 "nbformat_minor": 0
}
