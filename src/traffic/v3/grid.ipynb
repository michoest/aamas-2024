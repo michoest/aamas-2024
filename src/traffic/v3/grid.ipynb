{
 "cells": [
  {
   "cell_type": "code",
   "execution_count": null,
   "metadata": {
    "collapsed": false
   },
   "outputs": [],
   "source": [
    "%load_ext autoreload\n",
    "%autoreload 2"
   ]
  },
  {
   "cell_type": "code",
   "execution_count": null,
   "metadata": {
    "collapsed": false
   },
   "outputs": [],
   "source": [
    "from environment import TrafficModel, Car\n",
    "from util.network import create_random_grid_network, OneXLatencyGenerator\n",
    "\n",
    "import matplotlib.pyplot as plt\n",
    "import pandas as pd\n",
    "import numpy as np"
   ]
  },
  {
   "cell_type": "markdown",
   "metadata": {
    "collapsed": false
   },
   "source": [
    "### Debugging"
   ]
  },
  {
   "cell_type": "code",
   "execution_count": null,
   "metadata": {
    "collapsed": false
   },
   "outputs": [],
   "source": [
    "number_of_steps = 10\n",
    "\n",
    "network = create_random_grid_network(3, 4, OneXLatencyGenerator(capacity=2))\n",
    "cars = {\n",
    "    0: Car(0, (0, 0), (2, 3), 1, anticipation_strategy='edge', position=(((0, 0), (0, 1)), 0), verbose=True),\n",
    "    1: Car(1, (0, 0), (2, 3), 1, anticipation_strategy='edge', position=(((0, 0), (1, 0)), 0), verbose=True)\n",
    "}\n",
    "\n",
    "model = TrafficModel(network, cars)\n",
    "\n",
    "step_stats, car_stats = model.run_sequentially(number_of_steps)"
   ]
  },
  {
   "cell_type": "code",
   "execution_count": null,
   "metadata": {
    "collapsed": false
   },
   "outputs": [],
   "source": [
    "step_stats"
   ]
  },
  {
   "cell_type": "code",
   "execution_count": null,
   "metadata": {
    "collapsed": false
   },
   "outputs": [],
   "source": [
    "car_stats"
   ]
  },
  {
   "cell_type": "code",
   "execution_count": null,
   "metadata": {
    "collapsed": false
   },
   "outputs": [],
   "source": [
    "car_stats.groupby('route').count()"
   ]
  },
  {
   "cell_type": "code",
   "execution_count": null,
   "metadata": {
    "collapsed": false
   },
   "outputs": [],
   "source": [
    "step_stats['flow'].plot()"
   ]
  },
  {
   "cell_type": "markdown",
   "metadata": {
    "collapsed": false
   },
   "source": [
    "### Single Braess"
   ]
  },
  {
   "cell_type": "code",
   "execution_count": null,
   "metadata": {
    "collapsed": false
   },
   "outputs": [],
   "source": [
    "def get_cars():\n",
    "    return {\n",
    "             0: Car( 0, 0, 3, 1/4, position=((0, 1), 0 / 4)),\n",
    "             1: Car( 1, 0, 3, 1/4, position=((0, 1), 1 / 4)),\n",
    "             2: Car( 2, 0, 3, 1/4, position=((0, 1), 2 / 4)),\n",
    "             3: Car( 3, 0, 3, 1/4, position=((0, 1), 3 / 4)),\n",
    "             4: Car( 4, 0, 3, 1/11, position=((1, 3), 0 / 11)),\n",
    "             5: Car( 5, 0, 3, 1/11, position=((1, 3), 1 / 11)),\n",
    "             6: Car( 6, 0, 3, 1/11, position=((1, 3), 2 / 11)),\n",
    "             7: Car( 7, 0, 3, 1/11, position=((1, 3), 3 / 11)),\n",
    "             8: Car( 8, 0, 3, 1/11, position=((1, 3), 4 / 11)),\n",
    "             9: Car( 9, 0, 3, 1/11, position=((1, 3), 5 / 11)),\n",
    "            10: Car(10, 0, 3, 1/11, position=((1, 3), 6 / 11)),\n",
    "            11: Car(11, 0, 3, 1/11, position=((1, 3), 7 / 11)),\n",
    "            12: Car(12, 0, 3, 1/11, position=((1, 3), 8 / 11)),\n",
    "            13: Car(13, 0, 3, 1/11, position=((1, 3), 9 / 11)),\n",
    "            14: Car(14, 0, 3, 1/11, position=((1, 3), 10 / 11)),\n",
    "            15: Car(15, 0, 3, 1/11, position=((0, 2), 0 / 11)),\n",
    "            16: Car(16, 0, 3, 1/11, position=((0, 2), 1 / 11)),\n",
    "            17: Car(17, 0, 3, 1/11, position=((0, 2), 2 / 11)),\n",
    "            18: Car(18, 0, 3, 1/11, position=((0, 2), 3 / 11)),\n",
    "            19: Car(19, 0, 3, 1/11, position=((0, 2), 4 / 11)),\n",
    "            20: Car(20, 0, 3, 1/11, position=((0, 2), 5 / 11)),\n",
    "            21: Car(21, 0, 3, 1/11, position=((0, 2), 6 / 11)),\n",
    "            22: Car(22, 0, 3, 1/11, position=((0, 2), 7 / 11)),\n",
    "            23: Car(23, 0, 3, 1/11, position=((0, 2), 8 / 11)),\n",
    "            24: Car(24, 0, 3, 1/11, position=((0, 2), 9 / 11)),\n",
    "            25: Car(25, 0, 3, 1/11, position=((0, 2), 10 / 11)),\n",
    "            26: Car(26, 0, 3, 1/4, position=((2, 3), 0 / 4)),\n",
    "            27: Car(27, 0, 3, 1/4, position=((2, 3), 1 / 4)),\n",
    "            28: Car(28, 0, 3, 1/4, position=((2, 3), 2 / 4)),\n",
    "            29: Car(29, 0, 3, 1/4, position=((2, 3), 3 / 4)),\n",
    "        }\n",
    "number_of_steps = 1000"
   ]
  },
  {
   "cell_type": "code",
   "execution_count": null,
   "metadata": {
    "collapsed": false
   },
   "outputs": [],
   "source": [
    "number_of_steps = 1000\n",
    "\n",
    "mean_travel_times_allowed = []\n",
    "mean_travel_times_prohibited = []\n",
    "for capacity in range(2, 30):\n",
    "    for allowed_edge in [True, False]:\n",
    "        model = TrafficModel(create_braess_network(capacity=capacity), get_cars())\n",
    "        model.set_edge_restriction((1, 2), allowed=allowed_edge)\n",
    "        step_stats, car_stats = model.run_sequentially(number_of_steps)\n",
    "\n",
    "        if allowed_edge:\n",
    "            mean_travel_times_allowed.append((-car_stats[\"travel_time\"]).mean())\n",
    "        else:\n",
    "            mean_travel_times_prohibited.append((-car_stats[\"travel_time\"]).mean())\n",
    "\n",
    "f, (ax1, ax2) = plt.subplots(1, 2)\n",
    "f.set_figwidth(10)\n",
    "ax1.plot(range(2,30), pd.DataFrame({'allowed': mean_travel_times_allowed, 'prohibited': mean_travel_times_prohibited}))\n",
    "ax1.set_title('Mean Travel Times')\n",
    "\n",
    "improvement = np.array(mean_travel_times_prohibited) - np.array(mean_travel_times_allowed)\n",
    "ax2.plot(range(2,30), improvement)\n",
    "ax2.set_title('Improvement')\n",
    "\n",
    "plt.show()\n",
    "\n",
    "print(f'Best improvement found with capacity: {np.argmax(improvement) + 2}')"
   ]
  },
  {
   "cell_type": "code",
   "execution_count": null,
   "metadata": {
    "collapsed": false
   },
   "outputs": [],
   "source": [
    "model = TrafficModel(create_braess_network(capacity=13), get_cars())\n",
    "model.set_edge_restriction((1, 2), allowed=True)\n",
    "step_stats, car_stats = model.run_sequentially(number_of_steps)"
   ]
  },
  {
   "cell_type": "code",
   "execution_count": null,
   "metadata": {
    "collapsed": false
   },
   "outputs": [],
   "source": [
    "(-car_stats[\"travel_time\"]).mean()"
   ]
  },
  {
   "cell_type": "code",
   "execution_count": null,
   "metadata": {
    "collapsed": false
   },
   "outputs": [],
   "source": [
    "car_stats.groupby('route').count()"
   ]
  },
  {
   "cell_type": "code",
   "execution_count": null,
   "metadata": {
    "collapsed": false
   },
   "outputs": [],
   "source": [
    "step_stats"
   ]
  },
  {
   "cell_type": "markdown",
   "metadata": {
    "collapsed": false
   },
   "source": [
    "### Double Braess"
   ]
  },
  {
   "cell_type": "code",
   "execution_count": null,
   "metadata": {
    "collapsed": false
   },
   "outputs": [],
   "source": [
    "def get_cars(capacity=100):\n",
    "    return {\n",
    "    # A -> 0\n",
    "    1: Car(1, 'A', 'B', 1/(2 + (6 / capacity) * 4), position=(('A', 0), 0)),\n",
    "    2: Car(2, 'A', 'B', 1/(2 + (6 / capacity) * 4), position=(('A', 0), (1/(2 + (6 / capacity) * 4)) * 0.25)),\n",
    "    3: Car(3, 'A', 'B', 1/(2 + (6 / capacity) * 4), position=(('A', 0), (1/(2 + (6 / capacity) * 4)) * 0.5)),\n",
    "    4: Car(4, 'A', 'B', 1/(2 + (6 / capacity) * 4), position=(('A', 0), (1/(2 + (6 / capacity) * 4)) * 0.75)),\n",
    "    # 0 -> 1\n",
    "    5: Car(5, 0, 3, 1/(2 + (6 / capacity) * 4), position=((0, 1), 0)),\n",
    "    6: Car(6, 0, 3, 1/(2 + (6 / capacity) * 4), position=((0, 1), (1/(2 + (6 / capacity) * 4)) * 0.25)),\n",
    "    7: Car(7, 0, 3, 1/(2 + (6 / capacity) * 4), position=((0, 1), (1/(2 + (6 / capacity) * 4)) * 0.5)),\n",
    "    8: Car(8, 0, 3, 1/(2 + (6 / capacity) * 4), position=((0, 1), (1/(2 + (6 / capacity) * 4)) * 0.75)),\n",
    "    # 2 -> 3\n",
    "    9: Car(9, 0, 3, 1/(2 + (6 / capacity) * 4), position=((2, 3), 0)),\n",
    "    10: Car(10, 0, 3, 1/(2 + (6 / capacity) * 4), position=((2, 3), (1/(2 + (6 / capacity) * 4)) * 0.25)),\n",
    "    11: Car(11, 0, 3, 1/(2 + (6 / capacity) * 4), position=((2, 3), (1/(2 + (6 / capacity) * 4)) * 0.5)),\n",
    "    12: Car(12, 0, 3, 1/(2 + (6 / capacity) * 4), position=((2, 3), (1/(2 + (6 / capacity) * 4)) * 0.75)),\n",
    "    # 0 -> 2\n",
    "    13: Car(13, 0, 3, 1/10, position=((0, 2), 0)),\n",
    "    14: Car(14, 0, 3, 1/10, position=((0, 2), 0.5)),\n",
    "    # 1 -> 3\n",
    "    15: Car(15, 0, 3, 1/10, position=((1, 3), 0)),\n",
    "    16: Car(16, 0, 3, 1/10, position=((1, 3), 0.5)),\n",
    "    # 2 -> B\n",
    "    17: Car(17, 'A', 'B', 1/(2 + (6 / capacity) * 4), position=((2, 'B'), 0)),\n",
    "    18: Car(18, 'A', 'B', 1/(2 + (6 / capacity) * 4), position=((2, 'B'), (1/(2 + (6 / capacity) * 4)) * 0.25)),\n",
    "    19: Car(19, 'A', 'B', 1/(2 + (6 / capacity) * 4), position=((2, 'B'), (1/(2 + (6 / capacity) * 4)) * 0.5)),\n",
    "    20: Car(20, 'A', 'B', 1/(2 + (6 / capacity) * 4), position=(('A', 0), (1/(2 + (6 / capacity) * 4)) * 0.75 )),\n",
    "    # A -> 2\n",
    "    21: Car(21, 'A', 'B', 1/19, position=(('A', 2), 0)),\n",
    "    22: Car(22, 'A', 'B', 1/19, position=(('A', 2), (1 / 19) * 0.25)),\n",
    "    # 0 -> B\n",
    "    23: Car(23, 'A', 'B', 1/19, position=((0, 'B'), 0)),\n",
    "    24: Car(24, 'A', 'B', 1/19, position=((0, 'B'), (1 / 19) * 0.25))\n",
    "}"
   ]
  },
  {
   "cell_type": "code",
   "execution_count": null,
   "metadata": {
    "collapsed": false
   },
   "outputs": [],
   "source": [
    "number_of_steps = 1000\n",
    "\n",
    "mean_travel_times_allowed = []\n",
    "mean_travel_times_prohibited = []\n",
    "for capacity in range(2, 30):\n",
    "    for allowed_edge in [True, False]:\n",
    "        model = TrafficModel(create_double_braess_network(capacity=capacity), get_cars())\n",
    "        model.set_edge_restriction((1, 2), allowed=allowed_edge)\n",
    "        step_stats, car_stats = model.run_sequentially(number_of_steps)\n",
    "\n",
    "        if allowed_edge:\n",
    "            mean_travel_times_allowed.append((-car_stats[\"travel_time\"]).mean())\n",
    "        else:\n",
    "            mean_travel_times_prohibited.append((-car_stats[\"travel_time\"]).mean())\n",
    "\n",
    "f, (ax1, ax2) = plt.subplots(1, 2)\n",
    "f.set_figwidth(10)\n",
    "ax1.plot(range(2,30), pd.DataFrame({'allowed': mean_travel_times_allowed, 'prohibited': mean_travel_times_prohibited}))\n",
    "ax1.set_title('Mean Travel Times')\n",
    "\n",
    "improvement = np.array(mean_travel_times_prohibited) - np.array(mean_travel_times_allowed)\n",
    "ax2.plot(range(2,30), improvement)\n",
    "ax2.set_title('Improvement')\n",
    "\n",
    "plt.show()\n",
    "\n",
    "print(f'Best improvement found with capacity: {np.argmax(improvement) + 2}')"
   ]
  },
  {
   "cell_type": "code",
   "execution_count": null,
   "metadata": {
    "collapsed": false
   },
   "outputs": [],
   "source": [
    "model = TrafficModel(create_double_braess_network(capacity=6), get_cars(capacity=6))\n",
    "model.set_edge_restriction((0, 2), allowed=False)\n",
    "model.set_edge_restriction((1, 2), allowed=False)\n",
    "step_stats, car_stats = model.run_sequentially(number_of_steps)"
   ]
  },
  {
   "cell_type": "code",
   "execution_count": null,
   "metadata": {
    "collapsed": false
   },
   "outputs": [],
   "source": [
    "(-car_stats[\"travel_time\"]).mean()"
   ]
  },
  {
   "cell_type": "code",
   "execution_count": null,
   "metadata": {
    "collapsed": false
   },
   "outputs": [],
   "source": [
    "car_stats.groupby('route').count()"
   ]
  },
  {
   "cell_type": "code",
   "execution_count": null,
   "metadata": {
    "collapsed": false
   },
   "outputs": [],
   "source": [
    "car_stats.groupby([\"route\"])[\"travel_time\"].mean()"
   ]
  },
  {
   "cell_type": "markdown",
   "metadata": {},
   "source": [
    "# Playground"
   ]
  },
  {
   "cell_type": "code",
   "execution_count": null,
   "metadata": {},
   "outputs": [],
   "source": []
  }
 ],
 "metadata": {
  "kernelspec": {
   "display_name": "Python 3",
   "language": "python",
   "name": "python3"
  },
  "language_info": {
   "codemirror_mode": {
    "name": "ipython",
    "version": 3
   },
   "file_extension": ".py",
   "mimetype": "text/x-python",
   "name": "python",
   "nbconvert_exporter": "python",
   "pygments_lexer": "ipython3",
   "version": "3.11.4"
  }
 },
 "nbformat": 4,
 "nbformat_minor": 0
}
