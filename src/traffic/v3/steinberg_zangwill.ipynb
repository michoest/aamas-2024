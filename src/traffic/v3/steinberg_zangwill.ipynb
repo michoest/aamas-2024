{
 "cells": [
  {
   "cell_type": "code",
   "execution_count": 3,
   "metadata": {},
   "outputs": [],
   "source": [
    "%load_ext autoreload\n",
    "%autoreload 2"
   ]
  },
  {
   "cell_type": "code",
   "execution_count": 8,
   "metadata": {},
   "outputs": [],
   "source": [
    "from environment import TrafficModel, Car\n",
    "from util.network import create_braess_network, create_double_braess_network, create_cars\n",
    "\n",
    "import matplotlib.pyplot as plt\n",
    "import pandas as pd\n",
    "import numpy as np\n",
    "import networkx as nx\n",
    "from tqdm import trange"
   ]
  },
  {
   "cell_type": "code",
   "execution_count": 89,
   "metadata": {},
   "outputs": [],
   "source": [
    "number_of_steps = 1000\n",
    "car_counts = {(0, 3): 30}\n",
    "\n",
    "network = nx.DiGraph([(0, 1), (0, 2), (1, 3), (2, 3)])\n",
    "\n",
    "nx.set_edge_attributes(\n",
    "    network,\n",
    "    {\n",
    "        (0, 1): (0, 1),\n",
    "        (0, 2): (1, 0),\n",
    "        (1, 3): (1, 0),\n",
    "        (2, 3): (0, 1),\n",
    "    },\n",
    "    \"latency_params\",\n",
    ")"
   ]
  },
  {
   "cell_type": "code",
   "execution_count": 90,
   "metadata": {},
   "outputs": [],
   "source": [
    "alpha = [(0, 3)]\n",
    "routes = [nx.all_simple_edge_paths(network, s, t) for s, t in alpha]\n",
    "\n",
    "n, m = network.number_of_nodes(), network.number_of_edges()\n",
    "T = len(alpha)\n",
    "\n",
    "Js = [np.array([[network.edges[edge]['latency_params'][0] if edge in route else 0 for edge in network.edges] for route in s_t_routes]) for s_t_routes in routes]\n",
    "\n",
    "K = -nx.incidence_matrix(network, oriented=True).toarray()[:-1]\n",
    "\n",
    "L = -nx.incidence_matrix(network, edgelist=[(1, 2)], oriented=True).toarray()[:-1]\n",
    "\n",
    "# M1 = np.concatenate([np.ones((m - n + 2)), np.zeros((m - n + 2))])"
   ]
  },
  {
   "cell_type": "code",
   "execution_count": 99,
   "metadata": {},
   "outputs": [
    {
     "data": {
      "text/plain": [
       "[array([[0, 0, 1, 0],\n",
       "        [0, 1, 0, 0]])]"
      ]
     },
     "execution_count": 99,
     "metadata": {},
     "output_type": "execute_result"
    }
   ],
   "source": [
    "Js"
   ]
  },
  {
   "cell_type": "code",
   "execution_count": 93,
   "metadata": {},
   "outputs": [
    {
     "data": {
      "text/plain": [
       "array([[-0.],\n",
       "       [ 1.],\n",
       "       [-1.]])"
      ]
     },
     "execution_count": 93,
     "metadata": {},
     "output_type": "execute_result"
    }
   ],
   "source": [
    "L"
   ]
  },
  {
   "cell_type": "code",
   "execution_count": 94,
   "metadata": {},
   "outputs": [
    {
     "data": {
      "text/plain": [
       "array([[ 1.,  1., -0., -0.],\n",
       "       [-1., -0.,  1., -0.],\n",
       "       [-0., -1., -0.,  1.]])"
      ]
     },
     "execution_count": 94,
     "metadata": {},
     "output_type": "execute_result"
    }
   ],
   "source": [
    "K"
   ]
  },
  {
   "cell_type": "code",
   "execution_count": 95,
   "metadata": {},
   "outputs": [
    {
     "data": {
      "text/plain": [
       "array([], shape=(0, 5), dtype=float64)"
      ]
     },
     "execution_count": 95,
     "metadata": {},
     "output_type": "execute_result"
    }
   ],
   "source": [
    "if T == 1:\n",
    "    D = np.zeros((0, T + m))\n",
    "elif T == 2:\n",
    "    pass\n",
    "    # D = np.vstack([np.hstack([np.ones((Js[0].shape[0], 1)), Js[0]]), np.hstack([np.zeros((Js[1].shape[0], 1)), Js[1]])])\n",
    "else: # T > 2\n",
    "    pass\n",
    "\n",
    "D"
   ]
  },
  {
   "cell_type": "code",
   "execution_count": 96,
   "metadata": {},
   "outputs": [
    {
     "data": {
      "text/plain": [
       "array([[ 1.,  0.,  0.,  1.,  0.],\n",
       "       [ 1.,  0.,  1.,  0.,  0.],\n",
       "       [ 0.,  1.,  1., -0., -0.],\n",
       "       [ 0., -1., -0.,  1., -0.],\n",
       "       [ 0., -0., -1., -0.,  1.]])"
      ]
     },
     "execution_count": 96,
     "metadata": {},
     "output_type": "execute_result"
    }
   ],
   "source": [
    "D1 = np.vstack([np.hstack([np.ones((Js[0].shape[0], 1)), Js[0]]), D, np.hstack([np.zeros((K.shape[0], T)), K])])\n",
    "D1"
   ]
  },
  {
   "cell_type": "code",
   "execution_count": 100,
   "metadata": {},
   "outputs": [
    {
     "data": {
      "text/plain": [
       "-2.0"
      ]
     },
     "execution_count": 100,
     "metadata": {},
     "output_type": "execute_result"
    }
   ],
   "source": [
    "np.linalg.det(D1)"
   ]
  },
  {
   "cell_type": "code",
   "execution_count": 97,
   "metadata": {},
   "outputs": [
    {
     "data": {
      "text/plain": [
       "array([[ 0.,  0.,  0.,  1.,  0.],\n",
       "       [ 0.,  0.,  1.,  0.,  0.],\n",
       "       [-0.,  1.,  1., -0., -0.],\n",
       "       [ 1., -1., -0.,  1., -0.],\n",
       "       [-1., -0., -1., -0.,  1.]])"
      ]
     },
     "execution_count": 97,
     "metadata": {},
     "output_type": "execute_result"
    }
   ],
   "source": [
    "D2 = np.vstack([np.hstack([np.zeros((Js[0].shape[0], 1)), Js[0]]), D, np.hstack([L, np.zeros((K.shape[0], T - 1)), K])])\n",
    "D2"
   ]
  },
  {
   "cell_type": "code",
   "execution_count": 101,
   "metadata": {},
   "outputs": [
    {
     "data": {
      "text/plain": [
       "1.0"
      ]
     },
     "execution_count": 101,
     "metadata": {},
     "output_type": "execute_result"
    }
   ],
   "source": [
    "np.linalg.det(D2)"
   ]
  },
  {
   "cell_type": "code",
   "execution_count": 98,
   "metadata": {},
   "outputs": [
    {
     "data": {
      "text/plain": [
       "-2.0"
      ]
     },
     "execution_count": 98,
     "metadata": {},
     "output_type": "execute_result"
    }
   ],
   "source": [
    "np.linalg.det(D1) / np.linalg.det(D2)"
   ]
  }
 ],
 "metadata": {
  "kernelspec": {
   "display_name": ".venv",
   "language": "python",
   "name": "python3"
  },
  "language_info": {
   "codemirror_mode": {
    "name": "ipython",
    "version": 3
   },
   "file_extension": ".py",
   "mimetype": "text/x-python",
   "name": "python",
   "nbconvert_exporter": "python",
   "pygments_lexer": "ipython3",
   "version": "3.11.4"
  },
  "orig_nbformat": 4
 },
 "nbformat": 4,
 "nbformat_minor": 2
}
