{
 "cells": [
  {
   "cell_type": "code",
   "execution_count": 1,
   "metadata": {
    "collapsed": false
   },
   "outputs": [],
   "source": [
    "%load_ext autoreload\n",
    "%autoreload 2"
   ]
  },
  {
   "cell_type": "code",
   "execution_count": 2,
   "metadata": {
    "collapsed": false
   },
   "outputs": [],
   "source": [
    "from src.traffic.v3.environment import TrafficModel, Car\n",
    "from src.traffic.v3.util.network import create_braess_network, create_double_braess_network, create_cars\n",
    "\n",
    "import matplotlib.pyplot as plt\n",
    "import pandas as pd\n",
    "import numpy as np"
   ]
  },
  {
   "cell_type": "markdown",
   "metadata": {
    "collapsed": false
   },
   "source": [
    "### Debugging"
   ]
  },
  {
   "cell_type": "code",
   "execution_count": 3,
   "metadata": {
    "collapsed": false
   },
   "outputs": [
    {
     "name": "stdout",
     "output_type": "stream",
     "text": [
      "Latencies: {(0, 1): 2.0, (0, 2): 10, (1, 2): 1, (1, 3): 10, (2, 3): 2.06}.\n",
      "Car 1 at 2 chooses 3.\n",
      "Latencies: {(0, 1): 2.0, (0, 2): 10, (1, 2): 1, (1, 3): 10, (2, 3): 2.06}.\n",
      "Car 0 at 1 chooses 2.\n",
      "Latencies: {(0, 1): 2.0, (0, 2): 10, (1, 2): 1, (1, 3): 10, (2, 3): 2.12}.\n",
      "Car 0 at 2 chooses 3.\n",
      "Latencies: {(0, 1): 2.06, (0, 2): 10, (1, 2): 1, (1, 3): 10, (2, 3): 2.06}.\n",
      "Car 1 at 0 chooses 1.\n",
      "Latencies: {(0, 1): 2.12, (0, 2): 10, (1, 2): 1, (1, 3): 10, (2, 3): 2.0}.\n",
      "Car 0 at 0 chooses 1.\n",
      "Latencies: {(0, 1): 2.06, (0, 2): 10, (1, 2): 1, (1, 3): 10, (2, 3): 2.0}.\n",
      "Car 1 at 1 chooses 2.\n",
      "Latencies: {(0, 1): 2.0, (0, 2): 10, (1, 2): 1, (1, 3): 10, (2, 3): 2.06}.\n",
      "Car 1 at 2 chooses 3.\n",
      "Latencies: {(0, 1): 2.0, (0, 2): 10, (1, 2): 1, (1, 3): 10, (2, 3): 2.06}.\n",
      "Car 0 at 1 chooses 2.\n",
      "Latencies: {(0, 1): 2.0, (0, 2): 10, (1, 2): 1, (1, 3): 10, (2, 3): 2.12}.\n",
      "Car 0 at 2 chooses 3.\n",
      "Latencies: {(0, 1): 2.06, (0, 2): 10, (1, 2): 1, (1, 3): 10, (2, 3): 2.06}.\n",
      "Car 1 at 0 chooses 1.\n",
      "Latencies: {(0, 1): 2.12, (0, 2): 10, (1, 2): 1, (1, 3): 10, (2, 3): 2.0}.\n",
      "Car 0 at 0 chooses 1.\n",
      "Latencies: {(0, 1): 2.06, (0, 2): 10, (1, 2): 1, (1, 3): 10, (2, 3): 2.0}.\n",
      "Car 1 at 1 chooses 2.\n",
      "Latencies: {(0, 1): 2.0, (0, 2): 10, (1, 2): 1, (1, 3): 10, (2, 3): 2.0}.\n",
      "Car 0 at 1 chooses 2.\n",
      "Latencies: {(0, 1): 2.0, (0, 2): 10, (1, 2): 1, (1, 3): 10, (2, 3): 2.06}.\n",
      "Car 1 at 2 chooses 3.\n"
     ]
    }
   ],
   "source": [
    "number_of_steps = 15\n",
    "\n",
    "network = create_braess_network()\n",
    "cars = {\n",
    "    0: Car( 0, 0, 3, 1, anticipation_strategy='edge', position=((0, 1), 0), verbose=True),\n",
    "    1: Car( 1, 0, 3, 1, anticipation_strategy='edge', position=((1, 2), 0), verbose=True),\n",
    "    # 2: Car( 2, 0, 3, 1, anticipation_strategy='edge', position=((1, 2), 0), verbose=True)\n",
    "}\n",
    "\n",
    "model = TrafficModel(network, cars)\n",
    "\n",
    "step_stats, car_stats = model.run_sequentially(number_of_steps)"
   ]
  },
  {
   "cell_type": "code",
   "execution_count": 4,
   "metadata": {
    "collapsed": false
   },
   "outputs": [
    {
     "data": {
      "text/html": [
       "<div>\n",
       "<style scoped>\n",
       "    .dataframe tbody tr th:only-of-type {\n",
       "        vertical-align: middle;\n",
       "    }\n",
       "\n",
       "    .dataframe tbody tr th {\n",
       "        vertical-align: top;\n",
       "    }\n",
       "\n",
       "    .dataframe thead tr th {\n",
       "        text-align: left;\n",
       "    }\n",
       "</style>\n",
       "<table border=\"1\" class=\"dataframe\">\n",
       "  <thead>\n",
       "    <tr>\n",
       "      <th></th>\n",
       "      <th colspan=\"2\" halign=\"left\">route</th>\n",
       "      <th colspan=\"5\" halign=\"left\">flow</th>\n",
       "      <th colspan=\"5\" halign=\"left\">toll</th>\n",
       "      <th colspan=\"5\" halign=\"left\">latency</th>\n",
       "    </tr>\n",
       "    <tr>\n",
       "      <th></th>\n",
       "      <th>0</th>\n",
       "      <th>1</th>\n",
       "      <th>(0, 1)</th>\n",
       "      <th>(0, 2)</th>\n",
       "      <th>(1, 2)</th>\n",
       "      <th>(1, 3)</th>\n",
       "      <th>(2, 3)</th>\n",
       "      <th>(0, 1)</th>\n",
       "      <th>(0, 2)</th>\n",
       "      <th>(1, 2)</th>\n",
       "      <th>(1, 3)</th>\n",
       "      <th>(2, 3)</th>\n",
       "      <th>(0, 1)</th>\n",
       "      <th>(0, 2)</th>\n",
       "      <th>(1, 2)</th>\n",
       "      <th>(1, 3)</th>\n",
       "      <th>(2, 3)</th>\n",
       "    </tr>\n",
       "  </thead>\n",
       "  <tbody>\n",
       "    <tr>\n",
       "      <th>0</th>\n",
       "      <td>[]</td>\n",
       "      <td>[]</td>\n",
       "      <td>1</td>\n",
       "      <td>0</td>\n",
       "      <td>1</td>\n",
       "      <td>0</td>\n",
       "      <td>0</td>\n",
       "      <td>0.003000</td>\n",
       "      <td>0.0</td>\n",
       "      <td>0.0</td>\n",
       "      <td>0.0</td>\n",
       "      <td>0.000000</td>\n",
       "      <td>2.06</td>\n",
       "      <td>10</td>\n",
       "      <td>1</td>\n",
       "      <td>10</td>\n",
       "      <td>2.00</td>\n",
       "    </tr>\n",
       "    <tr>\n",
       "      <th>1</th>\n",
       "      <td>[1, 2, 3]</td>\n",
       "      <td>[2, 3]</td>\n",
       "      <td>0</td>\n",
       "      <td>0</td>\n",
       "      <td>1</td>\n",
       "      <td>0</td>\n",
       "      <td>1</td>\n",
       "      <td>0.002430</td>\n",
       "      <td>0.0</td>\n",
       "      <td>0.0</td>\n",
       "      <td>0.0</td>\n",
       "      <td>0.005700</td>\n",
       "      <td>2.00</td>\n",
       "      <td>10</td>\n",
       "      <td>1</td>\n",
       "      <td>10</td>\n",
       "      <td>2.06</td>\n",
       "    </tr>\n",
       "    <tr>\n",
       "      <th>2</th>\n",
       "      <td>[2, 3]</td>\n",
       "      <td>[2, 3]</td>\n",
       "      <td>0</td>\n",
       "      <td>0</td>\n",
       "      <td>0</td>\n",
       "      <td>0</td>\n",
       "      <td>2</td>\n",
       "      <td>0.002187</td>\n",
       "      <td>0.0</td>\n",
       "      <td>0.0</td>\n",
       "      <td>0.0</td>\n",
       "      <td>0.016017</td>\n",
       "      <td>2.00</td>\n",
       "      <td>10</td>\n",
       "      <td>1</td>\n",
       "      <td>10</td>\n",
       "      <td>2.12</td>\n",
       "    </tr>\n",
       "    <tr>\n",
       "      <th>3</th>\n",
       "      <td>[2, 3]</td>\n",
       "      <td>[2, 3]</td>\n",
       "      <td>0</td>\n",
       "      <td>0</td>\n",
       "      <td>0</td>\n",
       "      <td>0</td>\n",
       "      <td>2</td>\n",
       "      <td>0.001968</td>\n",
       "      <td>0.0</td>\n",
       "      <td>0.0</td>\n",
       "      <td>0.0</td>\n",
       "      <td>0.020415</td>\n",
       "      <td>2.00</td>\n",
       "      <td>10</td>\n",
       "      <td>1</td>\n",
       "      <td>10</td>\n",
       "      <td>2.12</td>\n",
       "    </tr>\n",
       "    <tr>\n",
       "      <th>4</th>\n",
       "      <td>[2, 3]</td>\n",
       "      <td>[0, 1, 2, 3]</td>\n",
       "      <td>1</td>\n",
       "      <td>0</td>\n",
       "      <td>0</td>\n",
       "      <td>0</td>\n",
       "      <td>1</td>\n",
       "      <td>0.007294</td>\n",
       "      <td>0.0</td>\n",
       "      <td>0.0</td>\n",
       "      <td>0.0</td>\n",
       "      <td>0.022236</td>\n",
       "      <td>2.06</td>\n",
       "      <td>10</td>\n",
       "      <td>1</td>\n",
       "      <td>10</td>\n",
       "      <td>2.06</td>\n",
       "    </tr>\n",
       "    <tr>\n",
       "      <th>5</th>\n",
       "      <td>[0, 1, 2, 3]</td>\n",
       "      <td>[0, 1, 2, 3]</td>\n",
       "      <td>2</td>\n",
       "      <td>0</td>\n",
       "      <td>0</td>\n",
       "      <td>0</td>\n",
       "      <td>0</td>\n",
       "      <td>0.017308</td>\n",
       "      <td>0.0</td>\n",
       "      <td>0.0</td>\n",
       "      <td>0.0</td>\n",
       "      <td>0.018011</td>\n",
       "      <td>2.12</td>\n",
       "      <td>10</td>\n",
       "      <td>1</td>\n",
       "      <td>10</td>\n",
       "      <td>2.00</td>\n",
       "    </tr>\n",
       "    <tr>\n",
       "      <th>6</th>\n",
       "      <td>[0, 1, 2, 3]</td>\n",
       "      <td>[0, 1, 2, 3]</td>\n",
       "      <td>2</td>\n",
       "      <td>0</td>\n",
       "      <td>0</td>\n",
       "      <td>0</td>\n",
       "      <td>0</td>\n",
       "      <td>0.021578</td>\n",
       "      <td>0.0</td>\n",
       "      <td>0.0</td>\n",
       "      <td>0.0</td>\n",
       "      <td>0.016210</td>\n",
       "      <td>2.12</td>\n",
       "      <td>10</td>\n",
       "      <td>1</td>\n",
       "      <td>10</td>\n",
       "      <td>2.00</td>\n",
       "    </tr>\n",
       "    <tr>\n",
       "      <th>7</th>\n",
       "      <td>[0, 1, 2, 3]</td>\n",
       "      <td>[1, 2, 3]</td>\n",
       "      <td>1</td>\n",
       "      <td>0</td>\n",
       "      <td>1</td>\n",
       "      <td>0</td>\n",
       "      <td>0</td>\n",
       "      <td>0.023178</td>\n",
       "      <td>0.0</td>\n",
       "      <td>0.0</td>\n",
       "      <td>0.0</td>\n",
       "      <td>0.014589</td>\n",
       "      <td>2.06</td>\n",
       "      <td>10</td>\n",
       "      <td>1</td>\n",
       "      <td>10</td>\n",
       "      <td>2.00</td>\n",
       "    </tr>\n",
       "    <tr>\n",
       "      <th>8</th>\n",
       "      <td>[1, 2, 3]</td>\n",
       "      <td>[2, 3]</td>\n",
       "      <td>0</td>\n",
       "      <td>0</td>\n",
       "      <td>1</td>\n",
       "      <td>0</td>\n",
       "      <td>1</td>\n",
       "      <td>0.018774</td>\n",
       "      <td>0.0</td>\n",
       "      <td>0.0</td>\n",
       "      <td>0.0</td>\n",
       "      <td>0.017517</td>\n",
       "      <td>2.00</td>\n",
       "      <td>10</td>\n",
       "      <td>1</td>\n",
       "      <td>10</td>\n",
       "      <td>2.06</td>\n",
       "    </tr>\n",
       "    <tr>\n",
       "      <th>9</th>\n",
       "      <td>[2, 3]</td>\n",
       "      <td>[2, 3]</td>\n",
       "      <td>0</td>\n",
       "      <td>0</td>\n",
       "      <td>0</td>\n",
       "      <td>0</td>\n",
       "      <td>2</td>\n",
       "      <td>0.016897</td>\n",
       "      <td>0.0</td>\n",
       "      <td>0.0</td>\n",
       "      <td>0.0</td>\n",
       "      <td>0.025589</td>\n",
       "      <td>2.00</td>\n",
       "      <td>10</td>\n",
       "      <td>1</td>\n",
       "      <td>10</td>\n",
       "      <td>2.12</td>\n",
       "    </tr>\n",
       "    <tr>\n",
       "      <th>10</th>\n",
       "      <td>[2, 3]</td>\n",
       "      <td>[2, 3]</td>\n",
       "      <td>0</td>\n",
       "      <td>0</td>\n",
       "      <td>0</td>\n",
       "      <td>0</td>\n",
       "      <td>2</td>\n",
       "      <td>0.015207</td>\n",
       "      <td>0.0</td>\n",
       "      <td>0.0</td>\n",
       "      <td>0.0</td>\n",
       "      <td>0.029030</td>\n",
       "      <td>2.00</td>\n",
       "      <td>10</td>\n",
       "      <td>1</td>\n",
       "      <td>10</td>\n",
       "      <td>2.12</td>\n",
       "    </tr>\n",
       "    <tr>\n",
       "      <th>11</th>\n",
       "      <td>[2, 3]</td>\n",
       "      <td>[0, 1, 2, 3]</td>\n",
       "      <td>1</td>\n",
       "      <td>0</td>\n",
       "      <td>0</td>\n",
       "      <td>0</td>\n",
       "      <td>1</td>\n",
       "      <td>0.018018</td>\n",
       "      <td>0.0</td>\n",
       "      <td>0.0</td>\n",
       "      <td>0.0</td>\n",
       "      <td>0.029214</td>\n",
       "      <td>2.06</td>\n",
       "      <td>10</td>\n",
       "      <td>1</td>\n",
       "      <td>10</td>\n",
       "      <td>2.06</td>\n",
       "    </tr>\n",
       "    <tr>\n",
       "      <th>12</th>\n",
       "      <td>[0, 1, 2, 3]</td>\n",
       "      <td>[0, 1, 2, 3]</td>\n",
       "      <td>2</td>\n",
       "      <td>0</td>\n",
       "      <td>0</td>\n",
       "      <td>0</td>\n",
       "      <td>0</td>\n",
       "      <td>0.025994</td>\n",
       "      <td>0.0</td>\n",
       "      <td>0.0</td>\n",
       "      <td>0.0</td>\n",
       "      <td>0.023664</td>\n",
       "      <td>2.12</td>\n",
       "      <td>10</td>\n",
       "      <td>1</td>\n",
       "      <td>10</td>\n",
       "      <td>2.00</td>\n",
       "    </tr>\n",
       "    <tr>\n",
       "      <th>13</th>\n",
       "      <td>[0, 1, 2, 3]</td>\n",
       "      <td>[0, 1, 2, 3]</td>\n",
       "      <td>2</td>\n",
       "      <td>0</td>\n",
       "      <td>0</td>\n",
       "      <td>0</td>\n",
       "      <td>0</td>\n",
       "      <td>0.029395</td>\n",
       "      <td>0.0</td>\n",
       "      <td>0.0</td>\n",
       "      <td>0.0</td>\n",
       "      <td>0.021297</td>\n",
       "      <td>2.12</td>\n",
       "      <td>10</td>\n",
       "      <td>1</td>\n",
       "      <td>10</td>\n",
       "      <td>2.00</td>\n",
       "    </tr>\n",
       "    <tr>\n",
       "      <th>14</th>\n",
       "      <td>[0, 1, 2, 3]</td>\n",
       "      <td>[1, 2, 3]</td>\n",
       "      <td>1</td>\n",
       "      <td>0</td>\n",
       "      <td>1</td>\n",
       "      <td>0</td>\n",
       "      <td>0</td>\n",
       "      <td>0.029510</td>\n",
       "      <td>0.0</td>\n",
       "      <td>0.0</td>\n",
       "      <td>0.0</td>\n",
       "      <td>0.019168</td>\n",
       "      <td>2.06</td>\n",
       "      <td>10</td>\n",
       "      <td>1</td>\n",
       "      <td>10</td>\n",
       "      <td>2.00</td>\n",
       "    </tr>\n",
       "  </tbody>\n",
       "</table>\n",
       "</div>"
      ],
      "text/plain": [
       "           route                 flow                                  toll  \\\n",
       "               0             1 (0, 1) (0, 2) (1, 2) (1, 3) (2, 3)    (0, 1)   \n",
       "0             []            []      1      0      1      0      0  0.003000   \n",
       "1      [1, 2, 3]        [2, 3]      0      0      1      0      1  0.002430   \n",
       "2         [2, 3]        [2, 3]      0      0      0      0      2  0.002187   \n",
       "3         [2, 3]        [2, 3]      0      0      0      0      2  0.001968   \n",
       "4         [2, 3]  [0, 1, 2, 3]      1      0      0      0      1  0.007294   \n",
       "5   [0, 1, 2, 3]  [0, 1, 2, 3]      2      0      0      0      0  0.017308   \n",
       "6   [0, 1, 2, 3]  [0, 1, 2, 3]      2      0      0      0      0  0.021578   \n",
       "7   [0, 1, 2, 3]     [1, 2, 3]      1      0      1      0      0  0.023178   \n",
       "8      [1, 2, 3]        [2, 3]      0      0      1      0      1  0.018774   \n",
       "9         [2, 3]        [2, 3]      0      0      0      0      2  0.016897   \n",
       "10        [2, 3]        [2, 3]      0      0      0      0      2  0.015207   \n",
       "11        [2, 3]  [0, 1, 2, 3]      1      0      0      0      1  0.018018   \n",
       "12  [0, 1, 2, 3]  [0, 1, 2, 3]      2      0      0      0      0  0.025994   \n",
       "13  [0, 1, 2, 3]  [0, 1, 2, 3]      2      0      0      0      0  0.029395   \n",
       "14  [0, 1, 2, 3]     [1, 2, 3]      1      0      1      0      0  0.029510   \n",
       "\n",
       "                                  latency                              \n",
       "   (0, 2) (1, 2) (1, 3)    (2, 3)  (0, 1) (0, 2) (1, 2) (1, 3) (2, 3)  \n",
       "0     0.0    0.0    0.0  0.000000    2.06     10      1     10   2.00  \n",
       "1     0.0    0.0    0.0  0.005700    2.00     10      1     10   2.06  \n",
       "2     0.0    0.0    0.0  0.016017    2.00     10      1     10   2.12  \n",
       "3     0.0    0.0    0.0  0.020415    2.00     10      1     10   2.12  \n",
       "4     0.0    0.0    0.0  0.022236    2.06     10      1     10   2.06  \n",
       "5     0.0    0.0    0.0  0.018011    2.12     10      1     10   2.00  \n",
       "6     0.0    0.0    0.0  0.016210    2.12     10      1     10   2.00  \n",
       "7     0.0    0.0    0.0  0.014589    2.06     10      1     10   2.00  \n",
       "8     0.0    0.0    0.0  0.017517    2.00     10      1     10   2.06  \n",
       "9     0.0    0.0    0.0  0.025589    2.00     10      1     10   2.12  \n",
       "10    0.0    0.0    0.0  0.029030    2.00     10      1     10   2.12  \n",
       "11    0.0    0.0    0.0  0.029214    2.06     10      1     10   2.06  \n",
       "12    0.0    0.0    0.0  0.023664    2.12     10      1     10   2.00  \n",
       "13    0.0    0.0    0.0  0.021297    2.12     10      1     10   2.00  \n",
       "14    0.0    0.0    0.0  0.019168    2.06     10      1     10   2.00  "
      ]
     },
     "execution_count": 4,
     "metadata": {},
     "output_type": "execute_result"
    }
   ],
   "source": [
    "step_stats"
   ]
  },
  {
   "cell_type": "code",
   "execution_count": 5,
   "metadata": {
    "collapsed": false
   },
   "outputs": [
    {
     "data": {
      "text/html": [
       "<div>\n",
       "<style scoped>\n",
       "    .dataframe tbody tr th:only-of-type {\n",
       "        vertical-align: middle;\n",
       "    }\n",
       "\n",
       "    .dataframe tbody tr th {\n",
       "        vertical-align: top;\n",
       "    }\n",
       "\n",
       "    .dataframe thead th {\n",
       "        text-align: right;\n",
       "    }\n",
       "</style>\n",
       "<table border=\"1\" class=\"dataframe\">\n",
       "  <thead>\n",
       "    <tr style=\"text-align: right;\">\n",
       "      <th></th>\n",
       "      <th>step</th>\n",
       "      <th>car_id</th>\n",
       "      <th>source</th>\n",
       "      <th>target</th>\n",
       "      <th>route</th>\n",
       "      <th>travel_time</th>\n",
       "    </tr>\n",
       "  </thead>\n",
       "  <tbody>\n",
       "    <tr>\n",
       "      <th>0</th>\n",
       "      <td>3</td>\n",
       "      <td>1</td>\n",
       "      <td>0</td>\n",
       "      <td>3</td>\n",
       "      <td>(1, 2, 3)</td>\n",
       "      <td>3</td>\n",
       "    </tr>\n",
       "    <tr>\n",
       "      <th>1</th>\n",
       "      <td>4</td>\n",
       "      <td>0</td>\n",
       "      <td>0</td>\n",
       "      <td>3</td>\n",
       "      <td>(0, 1, 2, 3)</td>\n",
       "      <td>4</td>\n",
       "    </tr>\n",
       "    <tr>\n",
       "      <th>2</th>\n",
       "      <td>10</td>\n",
       "      <td>1</td>\n",
       "      <td>0</td>\n",
       "      <td>3</td>\n",
       "      <td>(0, 1, 2, 3)</td>\n",
       "      <td>7</td>\n",
       "    </tr>\n",
       "    <tr>\n",
       "      <th>3</th>\n",
       "      <td>11</td>\n",
       "      <td>0</td>\n",
       "      <td>0</td>\n",
       "      <td>3</td>\n",
       "      <td>(0, 1, 2, 3)</td>\n",
       "      <td>7</td>\n",
       "    </tr>\n",
       "  </tbody>\n",
       "</table>\n",
       "</div>"
      ],
      "text/plain": [
       "   step  car_id  source  target         route  travel_time\n",
       "0     3       1       0       3     (1, 2, 3)            3\n",
       "1     4       0       0       3  (0, 1, 2, 3)            4\n",
       "2    10       1       0       3  (0, 1, 2, 3)            7\n",
       "3    11       0       0       3  (0, 1, 2, 3)            7"
      ]
     },
     "execution_count": 5,
     "metadata": {},
     "output_type": "execute_result"
    }
   ],
   "source": [
    "car_stats"
   ]
  },
  {
   "cell_type": "code",
   "execution_count": 6,
   "metadata": {
    "collapsed": false
   },
   "outputs": [
    {
     "data": {
      "text/html": [
       "<div>\n",
       "<style scoped>\n",
       "    .dataframe tbody tr th:only-of-type {\n",
       "        vertical-align: middle;\n",
       "    }\n",
       "\n",
       "    .dataframe tbody tr th {\n",
       "        vertical-align: top;\n",
       "    }\n",
       "\n",
       "    .dataframe thead th {\n",
       "        text-align: right;\n",
       "    }\n",
       "</style>\n",
       "<table border=\"1\" class=\"dataframe\">\n",
       "  <thead>\n",
       "    <tr style=\"text-align: right;\">\n",
       "      <th></th>\n",
       "      <th>step</th>\n",
       "      <th>car_id</th>\n",
       "      <th>source</th>\n",
       "      <th>target</th>\n",
       "      <th>travel_time</th>\n",
       "    </tr>\n",
       "    <tr>\n",
       "      <th>route</th>\n",
       "      <th></th>\n",
       "      <th></th>\n",
       "      <th></th>\n",
       "      <th></th>\n",
       "      <th></th>\n",
       "    </tr>\n",
       "  </thead>\n",
       "  <tbody>\n",
       "    <tr>\n",
       "      <th>(0, 1, 2, 3)</th>\n",
       "      <td>3</td>\n",
       "      <td>3</td>\n",
       "      <td>3</td>\n",
       "      <td>3</td>\n",
       "      <td>3</td>\n",
       "    </tr>\n",
       "    <tr>\n",
       "      <th>(1, 2, 3)</th>\n",
       "      <td>1</td>\n",
       "      <td>1</td>\n",
       "      <td>1</td>\n",
       "      <td>1</td>\n",
       "      <td>1</td>\n",
       "    </tr>\n",
       "  </tbody>\n",
       "</table>\n",
       "</div>"
      ],
      "text/plain": [
       "              step  car_id  source  target  travel_time\n",
       "route                                                  \n",
       "(0, 1, 2, 3)     3       3       3       3            3\n",
       "(1, 2, 3)        1       1       1       1            1"
      ]
     },
     "execution_count": 6,
     "metadata": {},
     "output_type": "execute_result"
    }
   ],
   "source": [
    "car_stats.groupby('route').count()"
   ]
  },
  {
   "cell_type": "code",
   "execution_count": 7,
   "metadata": {
    "collapsed": false
   },
   "outputs": [
    {
     "data": {
      "text/plain": [
       "<Axes: >"
      ]
     },
     "execution_count": 7,
     "metadata": {},
     "output_type": "execute_result"
    },
    {
     "data": {
      "image/png": "[encoded data removed]",
      "text/plain": [
       "<Figure size 640x480 with 1 Axes>"
      ]
     },
     "metadata": {},
     "output_type": "display_data"
    }
   ],
   "source": [
    "step_stats['flow'].plot()"
   ]
  },
  {
   "cell_type": "markdown",
   "metadata": {
    "collapsed": false
   },
   "source": [
    "### Single Braess"
   ]
  },
  {
   "cell_type": "code",
   "execution_count": null,
   "metadata": {
    "collapsed": false,
    "pycharm": {
     "is_executing": true
    }
   },
   "outputs": [],
   "source": [
    "number_of_steps = 1000\n",
    "car_counts = {(0, 3): 30}\n",
    "\n",
    "mean_travel_times_allowed = []\n",
    "mean_travel_times_prohibited = []\n",
    "for capacity in range(2, 30):\n",
    "    for allowed_edge in [True, False]:\n",
    "        network = create_braess_network(capacity=capacity)\n",
    "        model = TrafficModel(network, create_cars(network, car_counts=car_counts))\n",
    "        model.set_edge_restriction((1, 2), allowed=allowed_edge)\n",
    "        step_stats, car_stats = model.run_sequentially(number_of_steps)\n",
    "\n",
    "        if allowed_edge:\n",
    "            mean_travel_times_allowed.append((-car_stats[\"travel_time\"]).mean())\n",
    "        else:\n",
    "            mean_travel_times_prohibited.append((-car_stats[\"travel_time\"]).mean())\n",
    "\n",
    "f, (ax1, ax2) = plt.subplots(1, 2)\n",
    "f.set_figwidth(10)\n",
    "ax1.plot(range(2,30), pd.DataFrame({'allowed': mean_travel_times_allowed, 'prohibited': mean_travel_times_prohibited}))\n",
    "ax1.set_title('Mean Travel Times')\n",
    "\n",
    "improvement = np.array(mean_travel_times_prohibited) - np.array(mean_travel_times_allowed)\n",
    "ax2.plot(range(2,30), improvement)\n",
    "ax2.set_title('Improvement')\n",
    "\n",
    "plt.show()\n",
    "\n",
    "print(f'Best improvement found with capacity: {np.argmax(improvement) + 2}')"
   ]
  },
  {
   "cell_type": "code",
   "execution_count": 5,
   "metadata": {
    "collapsed": false
   },
   "outputs": [
    {
     "name": "stderr",
     "output_type": "stream",
     "text": [
      "100%|██████████| 1000/1000 [00:00<00:00, 1481.87it/s]\n"
     ]
    }
   ],
   "source": [
    "network = create_braess_network(capacity=13)\n",
    "model = TrafficModel(network, create_cars(network, car_counts=car_counts))\n",
    "model.set_edge_restriction((1, 2), allowed=False)\n",
    "step_stats, car_stats = model.run_sequentially(number_of_steps)"
   ]
  },
  {
   "cell_type": "code",
   "execution_count": 6,
   "metadata": {
    "collapsed": false
   },
   "outputs": [
    {
     "data": {
      "text/plain": "-15.352243424445591"
     },
     "execution_count": 6,
     "metadata": {},
     "output_type": "execute_result"
    }
   ],
   "source": [
    "(-car_stats[\"travel_time\"]).mean()"
   ]
  },
  {
   "cell_type": "code",
   "execution_count": 7,
   "metadata": {
    "collapsed": false
   },
   "outputs": [
    {
     "data": {
      "text/plain": "           step  car_id  source  target  travel_time\nroute                                               \n(0, 1, 3)   954     954     954     954          954\n(0, 2, 3)   970     970     970     970          970\n(1, 3)       11      11      11      11           11\n(2, 3)        4       4       4       4            4",
      "text/html": "<div>\n<style scoped>\n    .dataframe tbody tr th:only-of-type {\n        vertical-align: middle;\n    }\n\n    .dataframe tbody tr th {\n        vertical-align: top;\n    }\n\n    .dataframe thead th {\n        text-align: right;\n    }\n</style>\n<table border=\"1\" class=\"dataframe\">\n  <thead>\n    <tr style=\"text-align: right;\">\n      <th></th>\n      <th>step</th>\n      <th>car_id</th>\n      <th>source</th>\n      <th>target</th>\n      <th>travel_time</th>\n    </tr>\n    <tr>\n      <th>route</th>\n      <th></th>\n      <th></th>\n      <th></th>\n      <th></th>\n      <th></th>\n    </tr>\n  </thead>\n  <tbody>\n    <tr>\n      <th>(0, 1, 3)</th>\n      <td>954</td>\n      <td>954</td>\n      <td>954</td>\n      <td>954</td>\n      <td>954</td>\n    </tr>\n    <tr>\n      <th>(0, 2, 3)</th>\n      <td>970</td>\n      <td>970</td>\n      <td>970</td>\n      <td>970</td>\n      <td>970</td>\n    </tr>\n    <tr>\n      <th>(1, 3)</th>\n      <td>11</td>\n      <td>11</td>\n      <td>11</td>\n      <td>11</td>\n      <td>11</td>\n    </tr>\n    <tr>\n      <th>(2, 3)</th>\n      <td>4</td>\n      <td>4</td>\n      <td>4</td>\n      <td>4</td>\n      <td>4</td>\n    </tr>\n  </tbody>\n</table>\n</div>"
     },
     "execution_count": 7,
     "metadata": {},
     "output_type": "execute_result"
    }
   ],
   "source": [
    "car_stats.groupby('route').count()"
   ]
  },
  {
   "cell_type": "markdown",
   "metadata": {
    "collapsed": false
   },
   "source": [
    "### Double Braess"
   ]
  },
  {
   "cell_type": "code",
   "execution_count": null,
   "metadata": {
    "collapsed": false,
    "pycharm": {
     "is_executing": true
    }
   },
   "outputs": [],
   "source": [
    "number_of_steps = 1000\n",
    "car_counts = {(0, 3): 10, ('A', 'B'): 30}\n",
    "\n",
    "mean_travel_times_allowed = []\n",
    "mean_travel_times_prohibited = []\n",
    "for capacity in range(2, 30):\n",
    "    for allowed_edge in [True, False]:\n",
    "        network = create_double_braess_network(capacity=capacity)\n",
    "        model = TrafficModel(network, create_cars(network, car_counts=car_counts))\n",
    "        model.set_edge_restriction((0, 2), allowed=allowed_edge)\n",
    "        step_stats, car_stats = model.run_sequentially(number_of_steps)\n",
    "\n",
    "        if allowed_edge:\n",
    "            mean_travel_times_allowed.append((-car_stats[\"travel_time\"]).mean())\n",
    "        else:\n",
    "            mean_travel_times_prohibited.append((-car_stats[\"travel_time\"]).mean())\n",
    "\n",
    "f, (ax1, ax2) = plt.subplots(1, 2)\n",
    "f.set_figwidth(10)\n",
    "ax1.plot(range(2,30), pd.DataFrame({'allowed': mean_travel_times_allowed, 'prohibited': mean_travel_times_prohibited}))\n",
    "ax1.set_title('Mean Travel Times')\n",
    "\n",
    "improvement = np.array(mean_travel_times_prohibited) - np.array(mean_travel_times_allowed)\n",
    "ax2.plot(range(2,30), improvement)\n",
    "ax2.set_title('Improvement')\n",
    "\n",
    "plt.show()\n",
    "\n",
    "print(f'Best improvement found with capacity: {np.argmax(improvement) + 2}')"
   ]
  },
  {
   "cell_type": "code",
   "execution_count": 10,
   "metadata": {
    "collapsed": false
   },
   "outputs": [],
   "source": [
    "network = create_double_braess_network(capacity=7)\n",
    "model = TrafficModel(network, create_cars(network, car_counts=car_counts))\n",
    "model.set_edge_restriction((0, 2), allowed=True)\n",
    "model.set_edge_restriction((1, 2), allowed=True)\n",
    "step_stats, car_stats = model.run_sequentially(number_of_steps)"
   ]
  },
  {
   "cell_type": "code",
   "execution_count": 11,
   "metadata": {
    "collapsed": false
   },
   "outputs": [
    {
     "data": {
      "text/plain": "-19.568281938325992"
     },
     "execution_count": 11,
     "metadata": {},
     "output_type": "execute_result"
    }
   ],
   "source": [
    "(-car_stats[\"travel_time\"]).mean()"
   ]
  },
  {
   "cell_type": "code",
   "execution_count": 12,
   "metadata": {
    "collapsed": false
   },
   "outputs": [
    {
     "data": {
      "text/plain": "                 step  car_id  source  target  travel_time\nroute                                                     \n(0, 1, 2, 3)      481     481     481     481          481\n(0, 1, 2, B)        2       2       2       2            2\n(0, 2, 3)         274     274     274     274          274\n(0, 2, B)           2       2       2       2            2\n(0, B)              1       1       1       1            1\n(1, 2, 3)           3       3       3       3            3\n(1, 3)              1       1       1       1            1\n(2, 3)              2       2       2       2            2\n(2, B)              2       2       2       2            2\n(A, 0, 1, 2, 3)     1       1       1       1            1\n(A, 0, 1, 2, B)   393     393     393     393          393\n(A, 0, 2, B)      197     197     197     197          197\n(A, 2, 3)           2       2       2       2            2\n(A, 2, B)           1       1       1       1            1",
      "text/html": "<div>\n<style scoped>\n    .dataframe tbody tr th:only-of-type {\n        vertical-align: middle;\n    }\n\n    .dataframe tbody tr th {\n        vertical-align: top;\n    }\n\n    .dataframe thead th {\n        text-align: right;\n    }\n</style>\n<table border=\"1\" class=\"dataframe\">\n  <thead>\n    <tr style=\"text-align: right;\">\n      <th></th>\n      <th>step</th>\n      <th>car_id</th>\n      <th>source</th>\n      <th>target</th>\n      <th>travel_time</th>\n    </tr>\n    <tr>\n      <th>route</th>\n      <th></th>\n      <th></th>\n      <th></th>\n      <th></th>\n      <th></th>\n    </tr>\n  </thead>\n  <tbody>\n    <tr>\n      <th>(0, 1, 2, 3)</th>\n      <td>481</td>\n      <td>481</td>\n      <td>481</td>\n      <td>481</td>\n      <td>481</td>\n    </tr>\n    <tr>\n      <th>(0, 1, 2, B)</th>\n      <td>2</td>\n      <td>2</td>\n      <td>2</td>\n      <td>2</td>\n      <td>2</td>\n    </tr>\n    <tr>\n      <th>(0, 2, 3)</th>\n      <td>274</td>\n      <td>274</td>\n      <td>274</td>\n      <td>274</td>\n      <td>274</td>\n    </tr>\n    <tr>\n      <th>(0, 2, B)</th>\n      <td>2</td>\n      <td>2</td>\n      <td>2</td>\n      <td>2</td>\n      <td>2</td>\n    </tr>\n    <tr>\n      <th>(0, B)</th>\n      <td>1</td>\n      <td>1</td>\n      <td>1</td>\n      <td>1</td>\n      <td>1</td>\n    </tr>\n    <tr>\n      <th>(1, 2, 3)</th>\n      <td>3</td>\n      <td>3</td>\n      <td>3</td>\n      <td>3</td>\n      <td>3</td>\n    </tr>\n    <tr>\n      <th>(1, 3)</th>\n      <td>1</td>\n      <td>1</td>\n      <td>1</td>\n      <td>1</td>\n      <td>1</td>\n    </tr>\n    <tr>\n      <th>(2, 3)</th>\n      <td>2</td>\n      <td>2</td>\n      <td>2</td>\n      <td>2</td>\n      <td>2</td>\n    </tr>\n    <tr>\n      <th>(2, B)</th>\n      <td>2</td>\n      <td>2</td>\n      <td>2</td>\n      <td>2</td>\n      <td>2</td>\n    </tr>\n    <tr>\n      <th>(A, 0, 1, 2, 3)</th>\n      <td>1</td>\n      <td>1</td>\n      <td>1</td>\n      <td>1</td>\n      <td>1</td>\n    </tr>\n    <tr>\n      <th>(A, 0, 1, 2, B)</th>\n      <td>393</td>\n      <td>393</td>\n      <td>393</td>\n      <td>393</td>\n      <td>393</td>\n    </tr>\n    <tr>\n      <th>(A, 0, 2, B)</th>\n      <td>197</td>\n      <td>197</td>\n      <td>197</td>\n      <td>197</td>\n      <td>197</td>\n    </tr>\n    <tr>\n      <th>(A, 2, 3)</th>\n      <td>2</td>\n      <td>2</td>\n      <td>2</td>\n      <td>2</td>\n      <td>2</td>\n    </tr>\n    <tr>\n      <th>(A, 2, B)</th>\n      <td>1</td>\n      <td>1</td>\n      <td>1</td>\n      <td>1</td>\n      <td>1</td>\n    </tr>\n  </tbody>\n</table>\n</div>"
     },
     "execution_count": 12,
     "metadata": {},
     "output_type": "execute_result"
    }
   ],
   "source": [
    "car_stats.groupby('route').count()"
   ]
  },
  {
   "cell_type": "code",
   "execution_count": 13,
   "metadata": {
    "collapsed": false
   },
   "outputs": [
    {
     "data": {
      "text/plain": "route\n(0, 1, 2, 3)       17.792100\n(0, 1, 2, B)        7.500000\n(0, 2, 3)          18.824818\n(0, 2, B)          13.500000\n(0, B)             19.000000\n(1, 2, 3)           7.000000\n(1, 3)              8.000000\n(2, 3)              3.500000\n(2, B)              3.000000\n(A, 0, 1, 2, 3)    19.000000\n(A, 0, 1, 2, B)    21.440204\n(A, 0, 2, B)       21.903553\n(A, 2, 3)          25.000000\n(A, 2, B)          23.000000\nName: travel_time, dtype: float64"
     },
     "execution_count": 13,
     "metadata": {},
     "output_type": "execute_result"
    }
   ],
   "source": [
    "car_stats.groupby([\"route\"])[\"travel_time\"].mean()"
   ]
  },
  {
   "cell_type": "code",
   "execution_count": null,
   "outputs": [],
   "source": [],
   "metadata": {
    "collapsed": false
   }
  }
 ],
 "metadata": {
  "kernelspec": {
   "display_name": "Python 3",
   "language": "python",
   "name": "python3"
  },
  "language_info": {
   "codemirror_mode": {
    "name": "ipython",
    "version": 2
   },
   "file_extension": ".py",
   "mimetype": "text/x-python",
   "name": "python",
   "nbconvert_exporter": "python",
   "pygments_lexer": "ipython2",
   "version": "2.7.6"
  }
 },
 "nbformat": 4,
 "nbformat_minor": 0
}
