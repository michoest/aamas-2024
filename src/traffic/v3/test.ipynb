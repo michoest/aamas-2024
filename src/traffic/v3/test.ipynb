{
 "cells": [
  {
   "cell_type": "code",
   "execution_count": null,
   "metadata": {},
   "outputs": [],
   "source": [
    "%load_ext autoreload\n",
    "%autoreload 2"
   ]
  },
  {
   "cell_type": "code",
   "execution_count": null,
   "metadata": {},
   "outputs": [],
   "source": [
    "import numpy as np\n",
    "\n",
    "from environment import Car, TrafficModel\n",
    "from util.network import create_braess_network\n",
    "from util.analysis import plot_toll_per_edge, plot_cars_per_route, plot_latency_increase_per_edge\n",
    "from governance import sort_edges_by_latency_increase"
   ]
  },
  {
   "cell_type": "code",
   "execution_count": null,
   "metadata": {},
   "outputs": [],
   "source": [
    "number_of_steps = 100\n",
    "\n",
    "network = create_braess_network(capacity=2)\n",
    "cars = {\n",
    "    0: Car(0, 0, 3, 1, anticipation_strategy='edge_tolls', position=((0, 1), 0), value_of_time=1, verbose=False),\n",
    "    1: Car(1, 0, 3, 1, anticipation_strategy='edge_tolls', position=((0, 1), 0), value_of_time=1, verbose=False)\n",
    "}\n",
    "\n",
    "model = TrafficModel(network, cars)\n",
    "\n",
    "step_stats, car_stats = model.run_sequentially(number_of_steps)"
   ]
  },
  {
   "cell_type": "code",
   "execution_count": null,
   "metadata": {},
   "outputs": [],
   "source": [
    "plot_cars_per_route(car_stats)"
   ]
  },
  {
   "cell_type": "code",
   "execution_count": null,
   "metadata": {},
   "outputs": [],
   "source": [
    "plot_toll_per_edge(step_stats)"
   ]
  },
  {
   "cell_type": "code",
   "execution_count": null,
   "metadata": {},
   "outputs": [],
   "source": [
    "plot_latency_increase_per_edge(model, step_stats)"
   ]
  },
  {
   "cell_type": "code",
   "execution_count": null,
   "metadata": {},
   "outputs": [],
   "source": [
    "step_stats"
   ]
  },
  {
   "cell_type": "code",
   "execution_count": null,
   "metadata": {},
   "outputs": [],
   "source": [
    "car_stats"
   ]
  },
  {
   "cell_type": "code",
   "execution_count": null,
   "metadata": {},
   "outputs": [],
   "source": [
    "sort_edges_by_latency_increase(model, step_stats)"
   ]
  }
 ],
 "metadata": {
  "kernelspec": {
   "display_name": ".venv",
   "language": "python",
   "name": "python3"
  },
  "language_info": {
   "codemirror_mode": {
    "name": "ipython",
    "version": 3
   },
   "file_extension": ".py",
   "mimetype": "text/x-python",
   "name": "python",
   "nbconvert_exporter": "python",
   "pygments_lexer": "ipython3",
   "version": "3.11.4"
  },
  "orig_nbformat": 4
 },
 "nbformat": 4,
 "nbformat_minor": 2
}
