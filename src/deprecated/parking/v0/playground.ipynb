{
 "cells": [
  {
   "cell_type": "code",
   "execution_count": null,
   "metadata": {},
   "outputs": [],
   "source": [
    "import pynetlogo\n",
    "import numpy as np\n",
    "import matplotlib.pyplot as plt\n",
    "import pygame\n",
    "import json"
   ]
  },
  {
   "cell_type": "code",
   "execution_count": null,
   "metadata": {},
   "outputs": [],
   "source": [
    "class NetLogoWrapper:\n",
    "    def __init__(self, *, model_file, config_file, render=True) -> None:\n",
    "        self.netlogo = pynetlogo.NetLogoLink(gui=False, jvm_path='/Applications/NetLogo 6.3.0/runtime/Contents/MacOS/libjli.dylib')\n",
    "        self.netlogo.load_model(model_file)\n",
    "\n",
    "        # Load and apply config\n",
    "        with open(config_file, 'r') as f:\n",
    "            self.config = json.load(f)\n",
    "\n",
    "        self.resolution = 10\n",
    "        self.max_x_cor = self.config['evaluation']['max_x_cor']\n",
    "        self.max_y_cor = self.config['evaluation']['max_y_cor']\n",
    "        self.netlogo.command(f'resize-world {-self.max_x_cor} {self.max_x_cor} {-self.max_y_cor} {self.max_y_cor}')\n",
    "        self.netlogo.command(f'set num-cars {self.config[\"evaluation\"][\"num_cars\"]}')\n",
    "        self.netlogo.command(f'set num-garages {self.config[\"evaluation\"][\"num_garages\"]}')\n",
    "        self.netlogo.command(f'set demand-curve-intercept {self.config[\"evaluation\"][\"demand_curve_intercept\"]}')\n",
    "        self.netlogo.command(f'set lot-distribution-percentage {self.config[\"evaluation\"][\"lot_distribution_percentage\"]}')\n",
    "        self.netlogo.command(f'set target-start-occupancy {self.config[\"evaluation\"][\"target_start_occupancy\"]}')\n",
    "\n",
    "        if render:\n",
    "            pygame.init()\n",
    "            self.screen = pygame.display.set_mode((self.resolution * (2 * self.max_x_cor + 1), self.resolution * (2 * self.max_y_cor + 1)))\n",
    "            print(f'size: {self.resolution * (2 * self.max_x_cor + 1)} x {self.resolution * (2 * self.max_y_cor + 1)}')\n",
    "            pygame.display.set_caption('Restricted Parking')\n",
    "            \n",
    "        else:\n",
    "            self.screen = None\n",
    "\n",
    "\n",
    "    def setup(self):\n",
    "        self.netlogo.command('setup')\n",
    "\n",
    "    def step(self, number_of_steps=1):\n",
    "        self.netlogo.repeat_command('go', number_of_steps)\n",
    "\n",
    "    def report(self, variable):\n",
    "        return self.netlogo.report(variable)\n",
    "\n",
    "    def command(self, _command):\n",
    "        self.netlogo.command(_command)\n",
    "\n",
    "    def render_patches(self):\n",
    "        self.screen.fill((0,0,0))\n",
    "\n",
    "        for x, y, *color in self.netlogo.report('[(sentence pxcor pycor (ifelse-value (is-number? pcolor) [extract-rgb pcolor] [pcolor]))] of patches'):\n",
    "            pygame.draw.rect(self.screen, color, pygame.Rect(*self.transform_coordinates(x, y), self.resolution, self.resolution))\n",
    "\n",
    "        pygame.display.flip()\n",
    "    \n",
    "    def render(self):\n",
    "        if not self.render:\n",
    "            raise NotImplementedError\n",
    "        else:\n",
    "            self.screen.fill((0,0,0))\n",
    "            pygame.display.flip()\n",
    "\n",
    "    def close(self):\n",
    "        pygame.quit()\n",
    "\n",
    "    def transform_coordinates(self, x, y):\n",
    "        return ((self.max_x_cor + x) * self.resolution, (self.max_y_cor - y) * self.resolution)"
   ]
  },
  {
   "cell_type": "code",
   "execution_count": null,
   "metadata": {},
   "outputs": [],
   "source": [
    "class ParkingGovernance:\n",
    "    def __init__(self, netlogo) -> None:\n",
    "        self.netlogo = netlogo\n",
    "\n",
    "    def act(self):\n",
    "        pass"
   ]
  },
  {
   "cell_type": "code",
   "execution_count": null,
   "metadata": {},
   "outputs": [],
   "source": [
    "wrapper = NetLogoWrapper(model_file='model.nlogo', config_file='model_config.json', render=False)\n",
    "wrapper.setup()\n",
    "# wrapper.render_patches()"
   ]
  },
  {
   "cell_type": "code",
   "execution_count": null,
   "metadata": {},
   "outputs": [
    {
     "ename": "",
     "evalue": "",
     "output_type": "error",
     "traceback": [
      "\u001b[1;31mThe Kernel crashed while executing code in the the current cell or a previous cell. Please review the code in the cell(s) to identify a possible cause of the failure. Click <a href='https://aka.ms/vscodeJupyterKernelCrash'>here</a> for more info. View Jupyter <a href='command:jupyter.viewOutput'>log</a> for further details."
     ]
    }
   ],
   "source": [
    "wrapper = NetLogoWrapper(model_file='model.nlogo', config_file='model_config.json', render=False)\n",
    "wrapper.setup()\n",
    "wrapper.command('ask blue-lot [set allowed? false]')\n",
    "\n",
    "print(wrapper.report('[allowed?] of green-lot'))\n",
    "\n",
    "number_of_measurements = 10\n",
    "\n",
    "blue_occupancy = np.empty(number_of_measurements)\n",
    "for t in range(number_of_measurements):\n",
    "    wrapper.step(number_of_steps=10)\n",
    "    blue_occupancy[t] = wrapper.report('count cars-on blue-lot / count blue-lot')\n",
    "\n",
    "plt.plot(blue_occupancy)"
   ]
  },
  {
   "cell_type": "code",
   "execution_count": null,
   "metadata": {},
   "outputs": [],
   "source": []
  }
 ],
 "metadata": {
  "kernelspec": {
   "display_name": "Python 3 (ipykernel)",
   "language": "python",
   "name": "python3"
  },
  "language_info": {
   "codemirror_mode": {
    "name": "ipython",
    "version": 3
   },
   "file_extension": ".py",
   "mimetype": "text/x-python",
   "name": "python",
   "nbconvert_exporter": "python",
   "pygments_lexer": "ipython3",
   "version": "3.11.4"
  },
  "orig_nbformat": 4
 },
 "nbformat": 4,
 "nbformat_minor": 2
}
